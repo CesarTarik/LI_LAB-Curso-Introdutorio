{
 "cells": [
  {
   "cell_type": "markdown",
   "metadata": {},
   "source": [
    "# Aula 1 - Introdução à Programação e Python #"
   ]
  },
  {
   "cell_type": "markdown",
   "metadata": {},
   "source": [
    "Topicos\n",
    "- O que é programar\n",
    "\n",
    "- comparacões entre algumas linguagens de programação\n",
    "\n",
    "- Tipos de dados\n",
    "\n",
    "- Operações\n",
    "\n",
    "- identificadores\n",
    "\n",
    "- variáveis\n",
    "\n",
    "- bibliotecas"
   ]
  },
  {
   "cell_type": "markdown",
   "metadata": {},
   "source": [
    "## Computadores\n",
    "\n",
    "Os computadores podem fazer coisas incríveis, desde laptops básicos capazes de simples processamento de texto e funções de planilha até supercomputadores incrivelmente complexos que completam milhões de transações financeiras por dia e controlam a infraestrutura que torna a vida moderna possível. Mas nenhum computador pode fazer nada até que um programador de computador lhe diga para se comportar de maneiras específicas. É disso que se trata a programação de computadores\n",
    "A programação de computadores é o processo em que é escrito um código que instrui o desempenho de um computador, aplicativo ou programa de software. Em sua forma mais básica, a programação de computadores é um conjunto de instruções para facilitar ações específicas.\n",
    "\n",
    "Emnbora essa explicação mostre o aspecto técnico da computação. O ato de programar é tanto arte quanto técnica. Construir programas úteis, elegantes e inteligentes para si ou para os outros é uma atividade critiva impressionante.\n",
    " \n",
    "Sugestão de pesquisa histórica: O papel de Charles Babbage, máquina analítica, Ada Lovelace e Alan Turing na história da computação"
   ]
  },
  {
   "cell_type": "markdown",
   "metadata": {},
   "source": [
    "## Unidades de Medida Computacionais\n",
    "\n",
    "A menor unidade de medida manipulada pelo computador eletônico é o bit, diminutivo de binary digit. Ele é representado matemáticamente por zeros e ums. Estes zeros e ums representam estados eletromagnéticos dos circuitos que o compõem. O estado eletrônico zero corresponde desativação de um determinado recurso ou circuito interno enquanto 1 significa ativação.\n",
    "\n",
    "O computador tem capacidade de utilizar dados do mundo externo e representá-los em sistema binário. Essa representação é feita pelo Byte. Que é um Octeto de bits, ou seja 8 bits.\n",
    "\n",
    "Assim:\n",
    "\n",
    "\n",
    "|Unidade | Tamanho em caracteres |\n",
    "|--- | --- |\n",
    "| Bit (b) | 2 caracteres de ativação/desativação |\n",
    "| Byte (B) | 246 caracteres ou 2 Pot 8 |\n",
    "| Kbyte (KB) | 1.024 caracteres ou 2 Pot 10 |\n",
    "| Mbyte (MB) | 1.048.576 caracteres ou 2 Pot 20 |"
   ]
  },
  {
   "cell_type": "markdown",
   "metadata": {},
   "source": [
    "# Linguagens de Programação e Lógica Imperativa\n",
    "\n",
    "Para que os computadores funcionem, é necessário que se comunique com ele, passando tarefas a serem executadas.\n",
    "\n",
    "Algortimo é uma série de instruções a serem executadas para atingir um fim desejado. Programar é desenvolver um algortimo numa linguagem eletronica. \n",
    "\n",
    "Como vimos, os Computadores utilizam uma linguagem de máquina que consiste em 0s e 1s, também conhecido como binário. Escrever mesmo sentenças simples em binário é bastante complexo. O trabalho de inserir cartões para alimentar o computador idem. Assim acabou-se criando linguagens de programação cujo trabalho é traduzir os objetivos humanos em linguagem de computador.\n",
    "\n",
    "A linguagem Assembly foi desenvolvida para tornar um pouco mais fácil essa tarefa de alimentar os computadores, sendo a linguagem mais baixa de todas. O termo baixo ou alto são relativos ao qual próximo estas estão da máquina. Quanto mais baixo, mais próximo e vice versa.\n",
    "\n",
    "Existem diversos paradigmas de linguagens de programação com suas próprias lógicas. *Não há uma única lógica de programação*. Exsistem as linguagens imperativas (as mais comuns e usadas aqui) como Python, C, Java, Pascal, Delphi, Ruby, Cobol, Lua etc. Outros paradgimas como o funcional também são também usados. Muitos da telefonia no mundo é baseado em programas feitos em Linguagem Erlang. O paradigma funcional tem voltado a ser mais usado com computação devido aos crescentes usos de computação em paralelo a qual estas costumam ter um funcionamento melhor. Por outro lado regras diferentes, por exemplo, o fato dos dados serem imutáveis e portanto não terem variáveis, ainda as tornam muit complicadas de se entender. Outros paradigmas podem ser vistos em linguagens lógicas como prolog e concatenativas como Forth. Mas vamos voltar a lógica de programação imperativa.\n",
    "\n",
    "Linguagens imperativas mais altas que Assembly se dividem em 1) as linguagens compiladas e 2) as linguagens interpretadas. Os compiladores recebem todo o programa em um arquivo, então executa um processo de tradução do código como um todo. Já os interpretadores o fazem em tempo real. Existem outras linguagens compiladas como C por exemplo. Já o Python, PHP ou Javascript são interpretadas. Linguagens interpretadas tendem a ser de mais fácil compreensão e manuseio humanos, mas tendem a ter pior eficiência e rapidez em comparação com linguagens compiladas.\n",
    "\n",
    "Há outras diversas classificações para as linguagens, como exemplo Linguagens ainda se diferem em funcionais e orientadas a objeto. Já Linguagens funcionais são estruturadas ao redor pequenas funções para gerar códigos complexos. C e C++ por exemplo.  Linguagens orientadas a objeto são estruturadas ao redor de coleções de objetos. Python por exemplo.\n",
    "\n",
    "Estas linguagens produzem programas. A definição de um programa é uma sequência de instruções escritas numa dada linguagem para realizar uma tarefa. Até mesmo um simples script Hello World.py é um programa. Trata-se de um programa de uma única linha e particularmente não é útil, mas na definição mais estrita, é sim um programa escrito em Python."
   ]
  },
  {
   "cell_type": "markdown",
   "metadata": {},
   "source": [
    "## Python\n",
    "\n",
    "- Fácil de usar e aprender, muito próxima a linguagem natural, utilizando poucos pontos-e-vírgulas ou chaves no código.\n",
    "\n",
    "- É uma linguagem expressiva, capaz de expressar códigos complexos com poucas linhas.\n",
    "\n",
    "- É uma linguagem interpretada\n",
    "\n",
    "- Pode ser usado em diversas plataformas, seja windows, linux, MAC etc.\n",
    "\n",
    "- Livre e open source.\n",
    "\n",
    "- Orientada a Objetos e portanto permite re-uso do código em várias aplicações, diminuíndo o tamanho do código.\n",
    "\n",
    "- Pode ser integrada com outras linguagens como C, C++ e Java.\n",
    "\n",
    "- Tem uma biblioteca extensa\n",
    "\n",
    "- Alocação de memória é dinâmica"
   ]
  },
  {
   "cell_type": "markdown",
   "metadata": {},
   "source": [
    "**... Iniciando no Python**\n",
    "\n",
    "O Python foi concebido no final dos anos 80 por Guido van Rossum. Foi nomeado em homenagem ao show da BBCMonty Python’s Flying Circus.\n",
    "\n",
    "A versão 2.0 do Python foi lançada no ano 2000 e a versão 3 foi lançada em 2008. Até hoje muito código em livros e cursos tem a versão 2.0 que tem diferenças para a 3.0. Então tenha cuidado ao reproduzir código.\n",
    "\n",
    "O Python consegue implementar diversos construtos como funções, classes, Módulos, Pacotes (alguns dos quais fora do escopo, mas sugerimos estudar Programação Orientada a Objetos com Python), \n",
    "\n"
   ]
  },
  {
   "cell_type": "markdown",
   "metadata": {},
   "source": [
    "# Programas em Python e Sintaxe básica\n",
    "\n",
    "O padrão básico para um programa são o input, ou seja a área a qual dados do “mundo externo” são incorporados ao programa. Seja dados de um arquivo, um tipo de sensor como um microfone ou o usuário digitando um valor via teclado. Já output é a área onde se mostram os resultados de um programa numa tela. \n",
    "\n",
    "Um programa python compreende linhas lógicas. Um token NEWLINE é dado a cada linha pelo interpretador exceto para linhas vazias que são ignoradas. A execução do comando é, via de regra, sequêncial, acontecendo linha por linha, de cima para baixo. Em alguns casos podemos ter execução condicional e repetiviva o que veremos no curso. E possível também usar duas linhas para definir uma delcaração única, mas requer um atributo especial que veremos à frente.\n",
    "\n",
    "O que nos leva à discusão da sintaxe específica do Python. \n",
    "\n",
    "\n",
    "Cada linguagem tem regras e vocâbulos distintos. Podemos entender aqui o vocabulário como as palavras reservadas da linguagem, ou seja que tem significado específico para o interpretador Python. Existem várias como por exemplo *with, if, break e and*.\n",
    "\n",
    "Vamos ver mais sobre a sintaxe. Utilizaremos a sintaxe de uma função e de comentário. A função será a função print(), uma das mais usadas em qualquer código. Ela existe para imprimir mensagens no output.\n",
    "    \n",
    "Já o símbolo de jogo da velha (#) indica ao interpretador que um pedaço de código que não deve ser interpretado. O comentário serve para indicar uma informação, como por exemplo o que o código faz. É boa prática comentar seu código acima dele.\n",
    "\n"
   ]
  },
  {
   "cell_type": "markdown",
   "metadata": {},
   "source": [
    "```python\n",
    "# Explicação do código\n",
    "print(objeto)\n",
    "```"
   ]
  },
  {
   "cell_type": "code",
   "execution_count": 3,
   "metadata": {},
   "outputs": [
    {
     "name": "stdout",
     "output_type": "stream",
     "text": [
      "ola mundo\n"
     ]
    }
   ],
   "source": [
    "## Print do Ola Mundo\n",
    "\n",
    "print('ola mundo')"
   ]
  },
  {
   "cell_type": "code",
   "execution_count": 5,
   "metadata": {},
   "outputs": [
    {
     "name": "stdout",
     "output_type": "stream",
     "text": [
      "Olácomo vai você?\n"
     ]
    }
   ],
   "source": [
    "# Usando mais de uma linha\n",
    "print(\"Olá\\\n",
    "como vai você?\")"
   ]
  },
  {
   "cell_type": "code",
   "execution_count": 2,
   "metadata": {},
   "outputs": [
    {
     "name": "stdout",
     "output_type": "stream",
     "text": [
      "ola mundo\n"
     ]
    }
   ],
   "source": [
    "## Faça você mesmo ai"
   ]
  },
  {
   "cell_type": "markdown",
   "metadata": {},
   "source": [
    "# Termos e PEP 8 - Guia de Estilo Python para Consulta\n",
    "\n",
    "Existem diversos termos que iremos ver no decorrer deste curso. Sugerimos fortemente que haja o estudo fora do ambito das aulas. Procure o que é e como funciona no python coisas como sintaxe, variáveis, declaração, identação, operadores, strings, estruturas de dados, listas, tuplas.\n",
    "\n",
    "Essa é a base para eventual conexão para entender temas mais intermediários como modulos, classes, métodos, iteradores que por sua vez permitem uma compreensão melhor de temas avançados como Aprendizado de Máquina e Aprendizado Profundo, tratamento de bases relacionais e web frameworks.\n",
    "\n",
    "Para entender boas práticas do python, sugerimos ir diretamente a fonte! No caso O Guia criado por Guido van Rossum para ter as melhores práticas com Python. \n",
    "\n",
    "https://peps.python.org/pep-0008/#comments"
   ]
  },
  {
   "cell_type": "markdown",
   "metadata": {},
   "source": [
    "# Variáveis e atribuição\n",
    "\n",
    "## Conceito de variável em computação\n",
    "\n",
    "O conceito de variável é polissêmico. Via de regra sinifica um fator ou característica que muda. O contrário de uma constante. Em programação o termo variável tem um significado específico. Uma **variável** é um espaço na *memória RAM* do seu computador, utilizada por um programa para armazenar dados. \n",
    "\n",
    "## Identificadores\n",
    "\n",
    "Uma característica fundamental das variáveis é possuirem um nome que a identifica, chamado por isso então de **identificador**. Na linguagem Python, um identificador é formado necessáriamente apenas por:\n",
    "\n",
    "- letras (_de A a Z, maiúsculas ou minúsculas, sem acentuação_), \n",
    "- dígitos (_0 a 9_) e \n",
    "- o _underscore_ ( \\_ ). \n",
    "\n",
    "Um identificador deve começar **obrigatoriamente** com uma letra ou *underscore*, e não pode conter espaços, caracteres especiais (@, !, \\*, -, &, ˜, etc) ou caracteres acentuados (é, à, ã, ç, í, ö, ü, û, etc..). \n",
    "\n"
   ]
  },
  {
   "cell_type": "markdown",
   "metadata": {},
   "source": [
    "### Identificadores válidos e inválidos\n",
    "Portanto podemos considerar os seguintes identificadores como nomes válidos para variáveis:\n",
    "\n",
    "* nome\n",
    "* Salario\n",
    "* NUMERO10\n",
    "* i23ER21\n",
    "* \\_data\\_de\\_nascimento\\_\n",
    "\n",
    "Já os identificadores abaixo não são nomes válidos para variáveis:\n",
    "* nome do aluno (*identificadores não podem conter espaços*)\n",
    "* Salário (*contém uma letra acentuada*)\n",
    "* 10NUMERO (*começa com dígito*)\n",
    "* !23ER21 (_possui um caractere especial **!**_)\n",
    "* data-de-nascimento (_possui um caractere especial **-**_)\n",
    "\n",
    "### Identificadores significativos e não significativos\n",
    "\n",
    "Além de serem válidos, como nos exemplos acima, os **identificadores** precisam ter nomes significativos. Ou seja, ao ver um identificador, o programador deve conseguir perceber que dado está armazenado na variável.\n",
    "\n",
    "Os identificadores abaixo, embora sejam válidos, não tem nomes significativos:\n",
    "\n",
    "* kj20202\n",
    "* _297\n",
    "* GARGFAS\n",
    "* W\n",
    "\n",
    "Por fim, uma última informação. Python faz diferenciação entre letras maiúsculas e minúsculas em identificadores. Portanto, os identificadores _nota, Nota e NOTA_ representam três variáveis diferentes."
   ]
  },
  {
   "cell_type": "markdown",
   "metadata": {},
   "source": [
    "# Operadores de atribuição do Python\n",
    "\n",
    "\n",
    "| Operador | Exemplo | Significado |\n",
    "|:---|:---|:---|\n",
    "|     =    | a = 5 | Atribuição simples |\n",
    "| += | a += 2 | a = a + 2 |\n",
    "| -= | a -= 2 | a = a - 2 |\n",
    "| \\*= | a \\*= 2 | a = a \\* 2 |\n",
    "| /= | a /= 2 | a = a / 2 |\n",
    "| //= | a //= 2 | a = a // 2 |\n",
    "| %= | a %= 2 | a = a % 2 |\n",
    "| \\*\\*= | a \\*\\*= 2 | a = a \\*\\* 2 |"
   ]
  },
  {
   "cell_type": "markdown",
   "metadata": {},
   "source": [
    "# Criando variáveis\n",
    "\n",
    "Variáveis em Python não são **declaradas** como em outras linguagens *(ex: Pascal, C, C++, Java, C#, etc...)* mas **criadas** a partir da atribuição de um valor, uma variável, uma expressão ou um objeto. O comando de atribuição, representado pelo sinal de igualdade (**=**), é o responsável por atribuir (ou armazenar) um valor em uma variável.\n",
    "\n",
    "# Tipos de dados\n",
    "\n",
    "Dados do nosso dia-a-dia podem ser classificados em linguagem de programação python em vários tipos:\n",
    "\n",
    "- Numéricos Inteiros ou *interger*: números sem casa decimal: 10, 5, -4;\n",
    "- Numéricos Reais: números com casa decima: 3.14, 1075.18, 0.0;\n",
    "- Numéricos Complexos: Contém pares ordenados x+ij onde x é real e y é imaginário: 1+3j;\n",
    "- Não Numéricos Lógicos: True ou False\n",
    "- Não Numéricos Texto: \"Python\", \"José Maria da Silva\", \"34567-890\"\n",
    "- Sequênciais como Tuplas, listas.\n",
    "\n",
    "O Python possui tipos primitivos para cada um desses tipos de dados. São eles o int, float, complex, bool, str, tuple e list.\n",
    "\n",
    "Ao contrátio de outras linguagens, nós não definimos o tipo de variável. O python é uma linguagem dinâmica, ou seja o tipo de variável é determinado durante o run-time do programa, assumida pelo interpretador baseada no valor que contém. Como ela também é fortemente tipada, não se podem fazer nada que é incompatível com o tipo de dado.\n",
    "\n",
    "Alguns desses tipos tem tratamento específico. Por exemplo às strings. Estas são sequências de caracteres representadas entre aspas. Podem ser simples ou duplas, o que não se pode fazer é mistura-las."
   ]
  },
  {
   "cell_type": "code",
   "execution_count": 11,
   "metadata": {},
   "outputs": [],
   "source": [
    "# Apresentando uma String\n",
    "nome = 'Tarik Cesar'"
   ]
  },
  {
   "cell_type": "code",
   "execution_count": 12,
   "metadata": {},
   "outputs": [],
   "source": [
    "# Valor float\n",
    "pi = 3.14159"
   ]
  },
  {
   "cell_type": "code",
   "execution_count": 13,
   "metadata": {},
   "outputs": [],
   "source": [
    "# Inteiro\n",
    "idade = 32"
   ]
  },
  {
   "cell_type": "code",
   "execution_count": 14,
   "metadata": {},
   "outputs": [
    {
     "data": {
      "text/plain": [
       "32"
      ]
     },
     "execution_count": 14,
     "metadata": {},
     "output_type": "execute_result"
    }
   ],
   "source": [
    "# Existem diversas formas de \"printar\" ou mostrar um resultado. Por exemplo o nome do obj.\n",
    "idade"
   ]
  },
  {
   "cell_type": "code",
   "execution_count": 15,
   "metadata": {},
   "outputs": [
    {
     "name": "stdout",
     "output_type": "stream",
     "text": [
      "Ola como vai?\n"
     ]
    }
   ],
   "source": [
    "# Outra forma é com a função print()\n",
    "# Podemos printar mais de um objeto\n",
    "print(\"Ola\", \"como vai?\") "
   ]
  },
  {
   "cell_type": "code",
   "execution_count": 1,
   "metadata": {},
   "outputs": [
    {
     "name": "stdout",
     "output_type": "stream",
     "text": [
      "32\n"
     ]
    }
   ],
   "source": [
    "# Podmeos printar calculos\n",
    "print(20 + 12)"
   ]
  },
  {
   "cell_type": "code",
   "execution_count": 3,
   "metadata": {},
   "outputs": [
    {
     "name": "stdout",
     "output_type": "stream",
     "text": [
      "2012\n"
     ]
    }
   ],
   "source": [
    "# E Stringsm mas o resultado é diferente\n",
    "print('20'+'12')"
   ]
  },
  {
   "cell_type": "code",
   "execution_count": 16,
   "metadata": {},
   "outputs": [
    {
     "name": "stdout",
     "output_type": "stream",
     "text": [
      "12:24:-2\n"
     ]
    }
   ],
   "source": [
    "# O print pode apresentar separadores também:\n",
    "print(12, 24, -2, sep=':')"
   ]
  },
  {
   "cell_type": "code",
   "execution_count": 17,
   "metadata": {},
   "outputs": [],
   "source": [
    "# Faça um print com os valores acima separados por jacare"
   ]
  },
  {
   "cell_type": "code",
   "execution_count": 18,
   "metadata": {},
   "outputs": [
    {
     "name": "stdout",
     "output_type": "stream",
     "text": [
      "10/08/2022\n"
     ]
    }
   ],
   "source": [
    "## Pode-se adicionar separadores também:\n",
    "dia = \"10\"\n",
    "mes = \"08\"\n",
    "ano = \"2022\"\n",
    "print(dia, mes, ano, sep='/')"
   ]
  },
  {
   "cell_type": "code",
   "execution_count": 19,
   "metadata": {},
   "outputs": [
    {
     "name": "stdout",
     "output_type": "stream",
     "text": [
      "Ola\n",
      "Como Vai?\n"
     ]
    }
   ],
   "source": [
    "# Usando \\n para apresentar em mais de uma linha\n",
    "print(\"Ola\\nComo Vai?\")"
   ]
  },
  {
   "cell_type": "code",
   "execution_count": 20,
   "metadata": {},
   "outputs": [
    {
     "name": "stdout",
     "output_type": "stream",
     "text": [
      "Meu nome é Tarik Cesar e tenho 32 anos\n"
     ]
    }
   ],
   "source": [
    "## Uma outra forma de fazer print (antiga) é utilizando o comando format.\n",
    "print('Meu nome é {} e tenho {} anos'.format(nome, idade))"
   ]
  },
  {
   "cell_type": "code",
   "execution_count": 21,
   "metadata": {},
   "outputs": [
    {
     "name": "stdout",
     "output_type": "stream",
     "text": [
      "Meu nome é Tarik Cesar e tenho 32 anos\n"
     ]
    }
   ],
   "source": [
    "# A forma mais recente (python 3.6) e mais correta é com f\n",
    "# O método f em strings diz ao python para ler os objetos no colchete\n",
    "print(f\"Meu nome é {nome} e tenho {idade} anos\")"
   ]
  },
  {
   "cell_type": "code",
   "execution_count": 22,
   "metadata": {},
   "outputs": [
    {
     "name": "stdout",
     "output_type": "stream",
     "text": [
      "Meu nome é Tarik Cesar e tenho 62 anos\n"
     ]
    }
   ],
   "source": [
    "# Essa mudança tem diversas razões, por exemplo agora é possível fazer isso aqui\n",
    "print(f\"Meu nome é {nome} e tenho {idade+30} anos\")"
   ]
  },
  {
   "cell_type": "code",
   "execution_count": 23,
   "metadata": {},
   "outputs": [],
   "source": [
    "# Fala você mesmo o ultimo print com seu nome e sua idade"
   ]
  },
  {
   "cell_type": "code",
   "execution_count": 1,
   "metadata": {},
   "outputs": [],
   "source": [
    "# Pergunta, as variáveis abaixo são de qual tipo?\n",
    "\n",
    "var1 = \"17\"\n",
    "var2 = 17.2\n",
    "var3 = 17\n",
    "var4 = True\n",
    "var5 = 'joão'\n",
    "\n"
   ]
  },
  {
   "cell_type": "markdown",
   "metadata": {},
   "source": [
    "## Operadores aritméticos\n",
    "\n",
    "Progrmas de computador são excelentes para resolver problemas matemáticos. Para isso há uma sintáxe para informar ao interpretador como fazer os cálculos.\n",
    "\n",
    "\n",
    "\n",
    "                | Operador | Significado   | Exemplo          |\n",
    "                |--------- |-------------- |----------------  |\n",
    "                |     +    | Adição        | a = 3 + 4        |\n",
    "                |     -    | Subtração     | b = 9 - a        |\n",
    "                |     *    | Multiplicação | c = a * b        |\n",
    "                |     /    | Divisão       | d = 12/2         |\n",
    "                |    //    | Quociente     | e = 10//3        |\n",
    "                |     %    | Resto         | f = 10%2         |\n",
    "                |    **    | Exponenciação | g = 6 ** 3       |\n",
    "                |    **    | Radiciação    | h = 10 ** (1/2)  |\n",
    "\n",
    "## Precedência de Operadores\n",
    "\n",
    "É normal aparecer diversos cáculos e diversos operadores num mesmo programa. Para saber qual é feito primeiro existe uma precedência da execução de operadores que estão numa mesma linha. O python segue a convenção matemática tradicional. A sigla PENDAS é uma maneira útil de lembrar:\n",
    "\n",
    "1. Parênteses\n",
    "2. Exponenciação\n",
    "3. Multiplicação e divisão\n",
    "4. Adição e Substração"
   ]
  },
  {
   "cell_type": "code",
   "execution_count": 3,
   "metadata": {},
   "outputs": [
    {
     "data": {
      "text/plain": [
       "5"
      ]
     },
     "execution_count": 3,
     "metadata": {},
     "output_type": "execute_result"
    }
   ],
   "source": [
    "# Adição\n",
    "3 + 2"
   ]
  },
  {
   "cell_type": "code",
   "execution_count": 4,
   "metadata": {},
   "outputs": [
    {
     "data": {
      "text/plain": [
       "2"
      ]
     },
     "execution_count": 4,
     "metadata": {},
     "output_type": "execute_result"
    }
   ],
   "source": [
    "# Subtração\n",
    "7-5"
   ]
  },
  {
   "cell_type": "code",
   "execution_count": 5,
   "metadata": {},
   "outputs": [
    {
     "data": {
      "text/plain": [
       "6"
      ]
     },
     "execution_count": 5,
     "metadata": {},
     "output_type": "execute_result"
    }
   ],
   "source": [
    "# Multiplicação\n",
    "2 * 3"
   ]
  },
  {
   "cell_type": "code",
   "execution_count": 6,
   "metadata": {},
   "outputs": [
    {
     "data": {
      "text/plain": [
       "3.0"
      ]
     },
     "execution_count": 6,
     "metadata": {},
     "output_type": "execute_result"
    }
   ],
   "source": [
    "# Divisão\n",
    "9 / 3"
   ]
  },
  {
   "cell_type": "code",
   "execution_count": 7,
   "metadata": {},
   "outputs": [
    {
     "data": {
      "text/plain": [
       "2"
      ]
     },
     "execution_count": 7,
     "metadata": {},
     "output_type": "execute_result"
    }
   ],
   "source": [
    "# Divisão - calculando o coeficiente\n",
    "5 // 2"
   ]
  },
  {
   "cell_type": "code",
   "execution_count": 8,
   "metadata": {},
   "outputs": [
    {
     "data": {
      "text/plain": [
       "1"
      ]
     },
     "execution_count": 8,
     "metadata": {},
     "output_type": "execute_result"
    }
   ],
   "source": [
    "# Divisão - calculando o resto\n",
    "5 % 2"
   ]
  },
  {
   "cell_type": "code",
   "execution_count": 11,
   "metadata": {},
   "outputs": [
    {
     "data": {
      "text/plain": [
       "9"
      ]
     },
     "execution_count": 11,
     "metadata": {},
     "output_type": "execute_result"
    }
   ],
   "source": [
    "# Potenciação: (1) Exponenciação e (2) Radiciação\n",
    "# (1) Exponenciação\n",
    "3 ** 2"
   ]
  },
  {
   "cell_type": "code",
   "execution_count": 10,
   "metadata": {},
   "outputs": [
    {
     "data": {
      "text/plain": [
       "3.0"
      ]
     },
     "execution_count": 10,
     "metadata": {},
     "output_type": "execute_result"
    }
   ],
   "source": [
    "# (2) Radiciação\n",
    "# Raiz quadrada de 9\n",
    "9 ** (1/2)"
   ]
  },
  {
   "cell_type": "code",
   "execution_count": 4,
   "metadata": {},
   "outputs": [],
   "source": [
    "## Façam os seguintes calculos\n",
    "\n",
    "# 1200 + 245\n",
    "# 39 dividido por 3\n",
    "# 10 Elevado ao cubo\n",
    "# Raiz cúbica de 333"
   ]
  },
  {
   "cell_type": "code",
   "execution_count": 18,
   "metadata": {},
   "outputs": [
    {
     "data": {
      "text/plain": [
       "int"
      ]
     },
     "execution_count": 18,
     "metadata": {},
     "output_type": "execute_result"
    }
   ],
   "source": [
    "## Verificando tipo de dado.\n",
    "type(idade)"
   ]
  },
  {
   "cell_type": "code",
   "execution_count": 20,
   "metadata": {},
   "outputs": [
    {
     "data": {
      "text/plain": [
       "str"
      ]
     },
     "execution_count": 20,
     "metadata": {},
     "output_type": "execute_result"
    }
   ],
   "source": [
    "type(dia)"
   ]
  },
  {
   "cell_type": "code",
   "execution_count": 21,
   "metadata": {},
   "outputs": [
    {
     "data": {
      "text/plain": [
       "True"
      ]
     },
     "execution_count": 21,
     "metadata": {},
     "output_type": "execute_result"
    }
   ],
   "source": [
    "## outra forma de verificação de tipo é utilizando o comando is instance.\n",
    "isinstance(5, int)"
   ]
  },
  {
   "cell_type": "code",
   "execution_count": 22,
   "metadata": {},
   "outputs": [
    {
     "data": {
      "text/plain": [
       "False"
      ]
     },
     "execution_count": 22,
     "metadata": {},
     "output_type": "execute_result"
    }
   ],
   "source": [
    "isinstance(5, str)"
   ]
  },
  {
   "cell_type": "code",
   "execution_count": 3,
   "metadata": {},
   "outputs": [
    {
     "ename": "SyntaxError",
     "evalue": "EOL while scanning string literal (Temp/ipykernel_15032/1934331179.py, line 2)",
     "output_type": "error",
     "traceback": [
      "\u001b[1;36m  File \u001b[1;32m\"C:\\Users\\tarik\\AppData\\Local\\Temp/ipykernel_15032/1934331179.py\"\u001b[1;36m, line \u001b[1;32m2\u001b[0m\n\u001b[1;33m    print('nossa que ruim)\u001b[0m\n\u001b[1;37m                          ^\u001b[0m\n\u001b[1;31mSyntaxError\u001b[0m\u001b[1;31m:\u001b[0m EOL while scanning string literal\n"
     ]
    }
   ],
   "source": [
    "## Apresentando um erro do Python\n",
    "print('nossa que ruim)"
   ]
  },
  {
   "cell_type": "markdown",
   "metadata": {},
   "source": [
    "# Erros\n",
    "\n",
    "Erros são comuns mesmo para profissionais avançados. Na medida em que seus programas se tornam cada vez mais complexos, a tendência de aumentar seu aparecimento. Existem três tipos de erros principais.\n",
    "\n",
    "- Erros de Sintaxe: O mais fácil de corrigir e que é mais comum com menos experiência.Ele se relaciona a violação de regras da gramática do Python. Um problema na análise do erro é que nem sempre a indicação do erro se encontra onde o programa informa. Algumas vezes ele é anterior a informação dada pelo programa.\n",
    "\n",
    "- Erros de Lógica: Um programa apresenta esse erro quando a ordem das afirmações ou a forma como as afirmações se relacionam entre si tem problemas. Pense em algo como na ideia jurídica de 'apresente uma contra razão e depois faça a petição inicial'\n",
    "\n",
    "- Erros de Semântica: Quando se pede ao programa para realizar uma tarefa, mas ele realiza outra.\n",
    "\n",
    "\n",
    "Quando erros aparecem é necessário fazer o debugging. Existem diversos métodos para isso, mas ler o código, testar diferentes versões, refletir e retroceder já ajuda muito."
   ]
  },
  {
   "cell_type": "markdown",
   "metadata": {},
   "source": [
    "# Bibliotecas\n",
    "\n",
    "Bibliotecas são conjuntos de módulos e funções pré compiladas bastante úteis que reduzem o tamanho do código ou permitem que eles façam coisas novas.\n",
    "\n",
    "Utilizaremos várias delas, em particular Pandas e Numpy.\n",
    "\n",
    "Para importar uma bilbioteca temos o comando built-in *import*. Uma função interessante é o *alias* ou apelido. Uma forma de simplificar os comandos."
   ]
  },
  {
   "cell_type": "code",
   "execution_count": 5,
   "metadata": {},
   "outputs": [],
   "source": [
    "import pandas as pd\n",
    "import numpy as np"
   ]
  },
  {
   "cell_type": "markdown",
   "metadata": {},
   "source": [
    "# Sugestão de Leituras\n",
    "\n",
    "* O que é programação imperativa\n",
    "https://en.wikipedia.org/wiki/Imperative_programming\n",
    "\n",
    "* OLIVEIRA, Alexandre Garcia. Haskell: Uma introdução à programação funcional. 2017\n",
    "\n",
    "* Bibliotecas Python\n",
    "https://docs.python.org/3/library/"
   ]
  }
 ],
 "metadata": {
  "interpreter": {
   "hash": "c8244fbad4f74a14bb437976f80d62c90eb41cacdaf4831dcafe60ff9183122e"
  },
  "kernelspec": {
   "display_name": "Python 3.9.7 ('base')",
   "language": "python",
   "name": "python3"
  },
  "language_info": {
   "codemirror_mode": {
    "name": "ipython",
    "version": 3
   },
   "file_extension": ".py",
   "mimetype": "text/x-python",
   "name": "python",
   "nbconvert_exporter": "python",
   "pygments_lexer": "ipython3",
   "version": "3.9.7"
  },
  "orig_nbformat": 4
 },
 "nbformat": 4,
 "nbformat_minor": 2
}
