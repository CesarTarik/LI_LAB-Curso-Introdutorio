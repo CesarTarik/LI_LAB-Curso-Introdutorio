{
 "cells": [
  {
   "cell_type": "markdown",
   "metadata": {},
   "source": [
    "## AULA_3 ## Estruturas Lógicas e Condicionais AND, OR, NOT, IS, IF-ELSE, ELIF"
   ]
  },
  {
   "cell_type": "markdown",
   "metadata": {},
   "source": [
    "## Conectivos Lógicos ##\n",
    "\n",
    "\n",
    "Operadores no Python permitem transcrever lógica para o código. Nós vimos operadores matemáticos antes. Mas agora iremos ver operadores lógicos e de comparação.\n",
    "\n",
    "\n",
    "# Expressões Booleanas\n",
    "\n",
    "Uma expressão booleana é uma expressão que pode ser ou verdadeira ou falsa. Iremos usar alguns exemplos a seguir com o operador ==, que compara dois operandos e produz\n",
    "um resultado positivo True, se forem verdadeiro, e um resultado negativo False, caso\n",
    "contrário. É interessante notar que True e False são valores pertencentes a classe bool, não são strings. Não iremos falar de todos os tipos de operadores, como por exemplo operadores bitwise.\n"
   ]
  },
  {
   "cell_type": "markdown",
   "metadata": {},
   "source": [
    "# Lista de Operadores Relacionais\n",
    "\n",
    "| Operador | Significado   | Exemplo                    |\n",
    "|:---|:---|:---|\n",
    "| == | Igualdade | a == b |\n",
    "| != | DesiIgualdade | a != b |\n",
    "| > | Maior que | a > b |\n",
    "| < | Menor que | a < b |\n",
    "| >= | Maior ou igual | a >= b |\n",
    "| <= | Menor ou igual | a <= b |"
   ]
  },
  {
   "cell_type": "code",
   "execution_count": 27,
   "metadata": {},
   "outputs": [
    {
     "data": {
      "text/plain": [
       "True"
      ]
     },
     "execution_count": 27,
     "metadata": {},
     "output_type": "execute_result"
    }
   ],
   "source": [
    "5 == 5"
   ]
  },
  {
   "cell_type": "code",
   "execution_count": 28,
   "metadata": {},
   "outputs": [
    {
     "data": {
      "text/plain": [
       "False"
      ]
     },
     "execution_count": 28,
     "metadata": {},
     "output_type": "execute_result"
    }
   ],
   "source": [
    "5 == 6"
   ]
  },
  {
   "cell_type": "code",
   "execution_count": 29,
   "metadata": {},
   "outputs": [],
   "source": [
    "# Com alguns objetos\n",
    "ob1 = 10\n",
    "ob2 = 20"
   ]
  },
  {
   "cell_type": "code",
   "execution_count": 30,
   "metadata": {},
   "outputs": [
    {
     "data": {
      "text/plain": [
       "True"
      ]
     },
     "execution_count": 30,
     "metadata": {},
     "output_type": "execute_result"
    }
   ],
   "source": [
    "ob1 != ob2"
   ]
  },
  {
   "cell_type": "code",
   "execution_count": 31,
   "metadata": {},
   "outputs": [
    {
     "data": {
      "text/plain": [
       "False"
      ]
     },
     "execution_count": 31,
     "metadata": {},
     "output_type": "execute_result"
    }
   ],
   "source": [
    "ob1 > ob2"
   ]
  },
  {
   "cell_type": "code",
   "execution_count": 32,
   "metadata": {},
   "outputs": [
    {
     "data": {
      "text/plain": [
       "bool"
      ]
     },
     "execution_count": 32,
     "metadata": {},
     "output_type": "execute_result"
    }
   ],
   "source": [
    "# True pertence a classe bool, não a string\n",
    "type(True)"
   ]
  },
  {
   "cell_type": "code",
   "execution_count": 33,
   "metadata": {},
   "outputs": [],
   "source": [
    "# Como fazer um valor True ser lido como string pelo interpretador?"
   ]
  },
  {
   "cell_type": "markdown",
   "metadata": {},
   "source": [
    "# Operadores lógicos (conectivos lógicos)\n",
    "\n",
    "Existem alguns operadores lógicos. A sua semântica no python é a mesma das linguagens naturais como Português.\n",
    "\n",
    "| Operador | Significado   | Exemplo                    |\n",
    "|:---|:---|:---|\n",
    "| and | **E** lógico | a == b and b == c |\n",
    "| or | **OU** lógico | a == b or b == c |\n",
    "| ^ | **OU** exclusivo (XOR) | a == b ^ b == c |\n",
    "| not | Negação (inverte o resultado lógico) | not(a == b and b == c) |"
   ]
  },
  {
   "cell_type": "markdown",
   "metadata": {},
   "source": [
    "### Tabela verdade (AND)\n",
    "\n",
    "| a | b | a and b |\n",
    "|:--:|:--:|:--:|\n",
    "| True  | True  | **True** |\n",
    "| True  | False | False |\n",
    "| False | True  | False |\n",
    "| False | False | False |\n",
    "\n",
    "| a | b | c | a and b and c |\n",
    "|:--:|:--:|:--:|:--:|\n",
    "| True  | True  | True  | **True** |\n",
    "| True  | True  | False | False |\n",
    "| True  | False | True  | False |\n",
    "| True  | False | False | False |\n",
    "| False | True  | True  | False |\n",
    "| False | True  | False | False |\n",
    "| False | False | True  | False |\n",
    "| False | False | False | False |\n",
    "\n",
    "### Tabela verdade (OR)\n",
    "\n",
    "| a | b | a and b |\n",
    "|:--:|:--:|:--:|\n",
    "| True  | True  | **True** |\n",
    "| True  | False | **True** |\n",
    "| False | True  | **True** |\n",
    "| False | False | False |\n",
    "\n",
    "### Tabela verdade (XOR)\n",
    "\n",
    "| a | b | a ^ b |\n",
    "|:--:|:--:|:--:|\n",
    "| True  | True  | False |\n",
    "| True  | False | **True** |\n",
    "| False | True  | **True** |\n",
    "| False | False | False |\n",
    "\n",
    "### Tabela verdade (NOT)\n",
    "| a | not(a) |\n",
    "|:--:|:--:|\n",
    "| True  | False |\n",
    "| False | **True** |"
   ]
  },
  {
   "cell_type": "markdown",
   "metadata": {},
   "source": [
    "# Operadores de identidade\n",
    "\n",
    "| Operador | Significado   | Exemplo                    |\n",
    "|:---|:---|:---|\n",
    "| is | Verifica se duas referências apontam para o mesmo objeto | a is b |\n",
    "| is not | Verifica se duas referências apontam para diferentes objetos | a is not b |"
   ]
  },
  {
   "cell_type": "code",
   "execution_count": 34,
   "metadata": {},
   "outputs": [
    {
     "name": "stdout",
     "output_type": "stream",
     "text": [
      "a is b =  True\n",
      "a is c =  True\n",
      "b is c =  True\n",
      "a is not b =  False\n",
      "a is not c =  False\n",
      "b is not c =  False\n"
     ]
    }
   ],
   "source": [
    "a = 5\n",
    "b = 5\n",
    "c = a\n",
    "print(\"a is b = \", a is b)\n",
    "print(\"a is c = \", a is c)\n",
    "print(\"b is c = \", b is c)\n",
    "print(\"a is not b = \", a is not b)\n",
    "print(\"a is not c = \", a is not c)\n",
    "print(\"b is not c = \", b is not c)"
   ]
  },
  {
   "cell_type": "markdown",
   "metadata": {},
   "source": [
    "## Requisitando valores ao usuário ##\n",
    "\n",
    "Em diversas situações, podemos precisar do input do usuário para que o valor da variável seja inserido. O python possui tal função built-in. Utilizaremos bastante daqui para frente. Visitaremos funções em breve."
   ]
  },
  {
   "cell_type": "code",
   "execution_count": 35,
   "metadata": {},
   "outputs": [
    {
     "ename": "TypeError",
     "evalue": "'str' object is not callable",
     "output_type": "error",
     "traceback": [
      "\u001b[1;31m---------------------------------------------------------------------------\u001b[0m",
      "\u001b[1;31mTypeError\u001b[0m                                 Traceback (most recent call last)",
      "\u001b[1;32m~\\AppData\\Local\\Temp/ipykernel_6980/305664726.py\u001b[0m in \u001b[0;36m<module>\u001b[1;34m\u001b[0m\n\u001b[0;32m      1\u001b[0m \u001b[1;31m## Vamos pedir um número inteiro\u001b[0m\u001b[1;33m\u001b[0m\u001b[1;33m\u001b[0m\u001b[0m\n\u001b[1;32m----> 2\u001b[1;33m \u001b[0mnumero1\u001b[0m \u001b[1;33m=\u001b[0m \u001b[0mint\u001b[0m\u001b[1;33m(\u001b[0m\u001b[0minput\u001b[0m\u001b[1;33m(\u001b[0m\u001b[1;34m\"Digite o primeiro valor:\"\u001b[0m\u001b[1;33m)\u001b[0m\u001b[1;33m)\u001b[0m\u001b[1;33m\u001b[0m\u001b[1;33m\u001b[0m\u001b[0m\n\u001b[0m\u001b[0;32m      3\u001b[0m \u001b[0mnumero1\u001b[0m\u001b[1;33m\u001b[0m\u001b[1;33m\u001b[0m\u001b[0m\n",
      "\u001b[1;31mTypeError\u001b[0m: 'str' object is not callable"
     ]
    }
   ],
   "source": [
    "## Vamos pedir um número inteiro\n",
    "numero1 = int(input(\"Digite o primeiro valor:\"))\n",
    "numero1"
   ]
  },
  {
   "cell_type": "code",
   "execution_count": null,
   "metadata": {},
   "outputs": [],
   "source": [
    "# Requeira um valor float"
   ]
  },
  {
   "cell_type": "code",
   "execution_count": null,
   "metadata": {},
   "outputs": [],
   "source": [
    "# Requeira um valor string"
   ]
  },
  {
   "cell_type": "markdown",
   "metadata": {},
   "source": [
    "## Execução Condicional\n",
    "\n",
    "De forma a criar programas úteis, muitas vezes iremos precisar checar *condições* de forma a mudar ou não o comportamento do programa. Para isso usamos declarações condicionais como IF, IF-ELSE, ELIF.\n",
    "\n",
    "A declaração if é usada para testar uma dada condição. Se ela é True, executa-se o código do bloco do if. Qualquer condição lógica que pode ser avaliada como True ou False pode ser expressa com o if.\n",
    "\n",
    "- Condição ---> if Condição True ---> Executa-se Bloco de Código IF\n",
    "- Condição ---> if Condição False ---> Pula-se o IF\n",
    "\n",
    "A condição elif permite checar condições em cadeia e executar códigos específicos dependendo se as condições são verdadeiras\n",
    "\n",
    "- Condição ---> if Condição True ---> Executa-se Bloco de Código IF\n",
    "- Condição ---> elif Condição True ---> Executa-se bloco de código elif\n",
    "- Condição ---> elif Condição True ---> Executa-se bloco de código elif\n",
    "\n",
    "...\n",
    "\n",
    "A declaração else é uma condição geral executada quando a condição apresentada é falsa.\n",
    "- Condição ---> if Condição True ---> Executa-se Bloco de Código IF\n",
    "- Condição ---> if Condição False ---> Executa-se bloco de código else\n"
   ]
  },
  {
   "cell_type": "markdown",
   "metadata": {},
   "source": [
    "## Identação e bloco de código\n",
    "\n",
    "Identação é o mecanismo usado pelo interpretador python parar declarar um bloco de código. Se dois pedaços do código estão na mesma identação, eles fazem parte do mesmo bloco. Para fazer identação utiliza-se 4 espaços ou tab. Outras linguagens utilizam {} normalmente.  Uma forma de chamar a identação é acrescentar o ':' ao final do código. Ele significa *então*."
   ]
  },
  {
   "cell_type": "code",
   "execution_count": null,
   "metadata": {},
   "outputs": [
    {
     "name": "stdout",
     "output_type": "stream",
     "text": [
      "Maior de idade\n"
     ]
    }
   ],
   "source": [
    "# Analisando a declaração if com o exemplo abaixo.\n",
    "idade = 20\n",
    "if idade >18:\n",
    "    print('Maior de idade')"
   ]
  },
  {
   "cell_type": "code",
   "execution_count": null,
   "metadata": {},
   "outputs": [
    {
     "name": "stdout",
     "output_type": "stream",
     "text": [
      "20 é maior que 10\n"
     ]
    }
   ],
   "source": [
    "# É possível colocar tudo na mesma linha\n",
    "if 20 > 10: print(\"20 é maior que 10\")"
   ]
  },
  {
   "cell_type": "code",
   "execution_count": null,
   "metadata": {},
   "outputs": [],
   "source": [
    "# Pergunta: O que acontece se idade for igual a 17? E 18? Faça e veja o resultado"
   ]
  },
  {
   "cell_type": "code",
   "execution_count": null,
   "metadata": {},
   "outputs": [
    {
     "name": "stdout",
     "output_type": "stream",
     "text": [
      "Cinco não é maior \n"
     ]
    }
   ],
   "source": [
    "## Um teste lógico com duas condições IF e ELSE\n",
    "if 5 > 6:\n",
    "    print('Cinco é maior')\n",
    "else:\n",
    "    print('Cinco não é maior ')"
   ]
  },
  {
   "cell_type": "code",
   "execution_count": 2,
   "metadata": {},
   "outputs": [
    {
     "name": "stdout",
     "output_type": "stream",
     "text": [
      "O menor número digitado foi 2\n"
     ]
    }
   ],
   "source": [
    "# Usando o lógico and e função input\n",
    "# Programa que lê três números e mostre o menor deles. \n",
    "\n",
    "a = int(input(\"Digite o primeiro valor:\"))\n",
    "b = int(input(\"Digite o segundo valor:\"))\n",
    "c = int(input(\"Digite o terceiro valor:\"))\n",
    "\n",
    "menor = a\n",
    "if b < c and b < a:\n",
    "    menor = b\n",
    "if c < b and c < a:\n",
    "    menor = c\n",
    "print(f\"O menor número digitado foi {menor}\")"
   ]
  },
  {
   "cell_type": "code",
   "execution_count": null,
   "metadata": {},
   "outputs": [],
   "source": [
    "# Repita o mesmo program acima, mas com float"
   ]
  },
  {
   "cell_type": "code",
   "execution_count": null,
   "metadata": {},
   "outputs": [],
   "source": [
    "# Faça você Entendendo a = 120 e b = 22,\n",
    "# Imprima a frase B é menor que A com teste if que mostre que b é menor que a \n"
   ]
  },
  {
   "cell_type": "code",
   "execution_count": null,
   "metadata": {},
   "outputs": [
    {
     "name": "stdout",
     "output_type": "stream",
     "text": [
      "Pelo menos uma das condições é verdadeira\n"
     ]
    }
   ],
   "source": [
    "# Usando o or\n",
    "var1 = 200\n",
    "var2 = 33\n",
    "var3 = 500\n",
    "if var1 > var2 or var1 > var3:\n",
    "  print(\"Pelo menos uma das condições é verdadeira\")"
   ]
  },
  {
   "cell_type": "code",
   "execution_count": null,
   "metadata": {},
   "outputs": [
    {
     "name": "stdout",
     "output_type": "stream",
     "text": [
      "Mais de 10,\n",
      "E também mais de 20!\n"
     ]
    }
   ],
   "source": [
    "# Laços aninhados (Nested Loops)\n",
    "\n",
    "x = 48\n",
    "\n",
    "if x > 10:\n",
    "  print(\"Mais de 10,\")\n",
    "  if x > 20:\n",
    "    print(\"E também mais de 20!\")\n",
    "  else:\n",
    "    print(\"Mas não mais de 20.\") "
   ]
  },
  {
   "cell_type": "code",
   "execution_count": null,
   "metadata": {},
   "outputs": [
    {
     "name": "stdout",
     "output_type": "stream",
     "text": [
      "Par\n"
     ]
    }
   ],
   "source": [
    "# Programa que peça um número inteiro e determine se ele é par ou impar. \n",
    "# % denota resto da divisão\n",
    "\n",
    "numero = int(input('Digite um número inteiro: '))\n",
    "if (numero%2) == 0:\n",
    "    print(\"Par\")\n",
    "else:\n",
    "    print(\"Ímpar\")"
   ]
  },
  {
   "cell_type": "code",
   "execution_count": null,
   "metadata": {},
   "outputs": [
    {
     "name": "stdout",
     "output_type": "stream",
     "text": [
      "zero\n"
     ]
    }
   ],
   "source": [
    "## Se quisermos diferenciar o número 0 podemo usar elif\n",
    "\n",
    "numero = int(input('Digite um número inteiro: '))\n",
    "if (numero>1) and (numero%2) == 0:\n",
    "    print(\"Par\")\n",
    "elif (numero == 0):\n",
    "    print('zero')\n",
    "else:\n",
    "    print(\"Ímpar\")"
   ]
  },
  {
   "cell_type": "code",
   "execution_count": null,
   "metadata": {},
   "outputs": [
    {
     "name": "stdout",
     "output_type": "stream",
     "text": [
      "Bem vindo 007\n"
     ]
    }
   ],
   "source": [
    "# Programa que pergunte o nome do usuário. \n",
    "# Se o nome for Bond, mostre o resultado como \"Bem vindo 007. \n",
    "# Se não mostre a frase \"Bem vindo NOME.\n",
    "\n",
    "NOME = str(input('Digite o nome do usuário: '))\n",
    "if NOME == 'Bond':\n",
    "    print('Bem vindo 007')\n",
    "else:\n",
    "    print('Bem vindo',(NOME))"
   ]
  },
  {
   "cell_type": "code",
   "execution_count": 3,
   "metadata": {},
   "outputs": [
    {
     "name": "stdout",
     "output_type": "stream",
     "text": [
      "4\n",
      "<class 'int'>\n",
      "Reprovado\n"
     ]
    }
   ],
   "source": [
    "# Programa para a leitura de duas notas parciais de um aluno. \n",
    "# O programa deve calcular a média alcançada por aluno e apresentar:\n",
    "\n",
    "##    A mensagem \"Aprovado\", se a média alcançada for maior ou igual a sete;\n",
    "##    A mensagem \"Reprovado\", se a média for menor do que sete;\n",
    "##    A mensagem \"Aprovado com Distinção\", se a média for igual a dez. \n",
    "\n",
    "nota1 = int(input('Digite a primeira nota: '))\n",
    "nota2 = int(input('Digite a segunda nota: '))\n",
    "notamedia = (nota1 + nota2)//2\n",
    "print(notamedia)\n",
    "print(type(notamedia))\n",
    "\n",
    "if notamedia >= 7 and notamedia < 10:\n",
    "    print('Aprovado')\n",
    "elif notamedia == 10:\n",
    "    print('Aprovado com Distinção')\n",
    "else:\n",
    "    print('Reprovado')"
   ]
  },
  {
   "cell_type": "code",
   "execution_count": null,
   "metadata": {},
   "outputs": [],
   "source": [
    "# Faça um programa que leia 4 valores, tire a média. Se a média for:\n",
    "## maior ou igual a sete, imprima aprovado.\n",
    "## menor do que sete, imprima Reprovado \n"
   ]
  },
  {
   "cell_type": "markdown",
   "metadata": {},
   "source": [
    "# Try e Except\n",
    "\n",
    "Muitas vezes podemos ter problemas com o input. Por exemplo um programa que peça um número para o usuário e este responda com um valor não númerico. O programa dará erro, o problema que esse erro pode também inviabilizar a execução de códigos que estejam abaixo dele. Uma estrutura de execução condicional interna ao Python para lidar com estes erros é o try / except. Eles permitem a execução de um bloco de códigos caso haja erro."
   ]
  },
  {
   "cell_type": "code",
   "execution_count": 4,
   "metadata": {},
   "outputs": [
    {
     "name": "stdout",
     "output_type": "stream",
     "text": [
      "-16.666666666666668\n"
     ]
    }
   ],
   "source": [
    "# Execute o programa abaixo com o um número e com uma string depois\n",
    "fahr = float(input('Temperatura em Fahrenheit: '))\n",
    "cel = (fahr - 32.0) * 5.0 / 9.0\n",
    "print(cel)"
   ]
  },
  {
   "cell_type": "code",
   "execution_count": 9,
   "metadata": {},
   "outputs": [
    {
     "name": "stdout",
     "output_type": "stream",
     "text": [
      "Por favor digite um número\n"
     ]
    }
   ],
   "source": [
    "# Tente agora com uma string\n",
    "try:\n",
    "    fahr = float(input('Temperatura em Fahrenheit: '))\n",
    "    cel = (fahr - 32.0) * 5.0 / 9.0\n",
    "    print(cel)\n",
    "except:\n",
    "    print('Por favor digite um número')"
   ]
  },
  {
   "cell_type": "markdown",
   "metadata": {},
   "source": [
    "\n",
    "Sugestão:\n",
    "https://pythonacademy.com.br/blog/operadores-aritmeticos-e-logicos-em-python"
   ]
  },
  {
   "cell_type": "markdown",
   "metadata": {},
   "source": [
    "Atividades Avaliativas\n",
    "- 1- Escreva um programa que a)leia um numero que seja o consumo de energia de uma casa, b) calcule a conta de eletricidade de acordo com o critério seguinte:\n",
    "\n",
    "    - Primeiros 100 unidades ---- Sem cobrança\n",
    "    - As próximas 100 unidades -- 5 Reais unidade\n",
    "    - Depois de 200 unidades ---- 10 Reais por unidade\n",
    "    \n",
    "Lembramos que se por exemplo, a conta é 280, às primeiras 100 unidades dessa conta não tem cobrança, as unidades 100 a 200 tem cobrança de 5 reais e as acima de 200 são 10 reais. Elas devem ser somadas ao final para descobrir o valor da conta. (2 Pontos)\n",
    "\n",
    "- 2- Faça um programa que leia um número e diga se ele é divisivel por 6 ou não.(1 Ponto)\n",
    "\n",
    "- 3- Faça um programa que leia se um usuário está ATIVO e se está LOGADO. Se ele estiver ativo e logado apresente a mensagem Bem Vindo Usuário. De outro modo apresente a mensagem Você precisa ativar seu e-mail. (1 Ponto)\n",
    "\n",
    "- 4- Faça um programa que leia quatro números utilizando declaração if-elif-else e imprima a maior e o menor deles. (1 Ponto)\n",
    "\n",
    "- 5- Faça um programa que leia um valor numérico e diga se ele é positivo ou negativo. (1 Ponto)\n",
    "\n",
    "- 6- Faça um programa que leia o salário do funcionário e calcúle o valor que ele irá receber de aumento, se ele receber acima de R$ 1750,36, o aumento é de 7,2%. Se ele receber abaixo de 1750,36, o aumento é de 12,4%. (2 Ponto)\n",
    "\n",
    "- 7- Faça um programa que pergunte a distância que um passageiro irá percorrer em KM. Calcule o preço da passagem cobrando R$ 1,25 por viagens de até 130 KM e 2,25 para viagens maiores. (2 Ponto)"
   ]
  }
 ],
 "metadata": {
  "interpreter": {
   "hash": "c8244fbad4f74a14bb437976f80d62c90eb41cacdaf4831dcafe60ff9183122e"
  },
  "kernelspec": {
   "display_name": "Python 3.9.7 ('base')",
   "language": "python",
   "name": "python3"
  },
  "language_info": {
   "codemirror_mode": {
    "name": "ipython",
    "version": 3
   },
   "file_extension": ".py",
   "mimetype": "text/x-python",
   "name": "python",
   "nbconvert_exporter": "python",
   "pygments_lexer": "ipython3",
   "version": "3.9.7"
  },
  "orig_nbformat": 4
 },
 "nbformat": 4,
 "nbformat_minor": 2
}
