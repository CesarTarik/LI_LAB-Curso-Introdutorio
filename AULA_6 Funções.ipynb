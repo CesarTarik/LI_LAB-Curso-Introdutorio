{
 "cells": [
  {
   "cell_type": "markdown",
   "metadata": {},
   "source": [
    "# Aula 6 Funções"
   ]
  },
  {
   "cell_type": "markdown",
   "metadata": {},
   "source": [
    "É um pilar de qualquer linguagem de programação imperativa.\n",
    "\n",
    "Funções são um conjunto de declarações relacionadas que executam uma tarefa específica.\n",
    "\n",
    "Funções permitem o uso de blocos de código várias vezes, criando modularidade no código. Conforme o programa cresce em tamanho, ele fica mais administravel e escalavel com o uso funções.\n",
    "\n",
    "Existem 4 tipos de funções no Python. Funções built-in ou internas, user-defined, lambda e recursiva.\n",
    "\n",
    "De funções built-in ou interas já usamos várias. Estas funções são aquelas que foram definidas na própria linguagem."
   ]
  },
  {
   "cell_type": "code",
   "execution_count": 2,
   "metadata": {},
   "outputs": [
    {
     "data": {
      "text/plain": [
       "'s'"
      ]
     },
     "execution_count": 2,
     "metadata": {},
     "output_type": "execute_result"
    }
   ],
   "source": [
    "# Funções como max e min dão os maiores e menores valores de objeto iterável.\n",
    "max('Ola Amigos')"
   ]
  },
  {
   "cell_type": "code",
   "execution_count": 3,
   "metadata": {},
   "outputs": [
    {
     "data": {
      "text/plain": [
       "7"
      ]
     },
     "execution_count": 3,
     "metadata": {},
     "output_type": "execute_result"
    }
   ],
   "source": [
    "# Len indica quantidades de itens\n",
    "len('Vitoria')"
   ]
  },
  {
   "cell_type": "code",
   "execution_count": 4,
   "metadata": {},
   "outputs": [
    {
     "data": {
      "text/plain": [
       "'24'"
      ]
     },
     "execution_count": 4,
     "metadata": {},
     "output_type": "execute_result"
    }
   ],
   "source": [
    "# Função de conversão de dados\n",
    "str(24)"
   ]
  },
  {
   "cell_type": "code",
   "execution_count": 5,
   "metadata": {},
   "outputs": [
    {
     "data": {
      "text/plain": [
       "3"
      ]
     },
     "execution_count": 5,
     "metadata": {},
     "output_type": "execute_result"
    }
   ],
   "source": [
    "int(3.9999)"
   ]
  },
  {
   "cell_type": "code",
   "execution_count": 6,
   "metadata": {},
   "outputs": [
    {
     "data": {
      "text/plain": [
       "3.999"
      ]
     },
     "execution_count": 6,
     "metadata": {},
     "output_type": "execute_result"
    }
   ],
   "source": [
    "float('3.999')"
   ]
  },
  {
   "cell_type": "markdown",
   "metadata": {},
   "source": [
    "# Adicionando Novas Funnções\n",
    "Vimos algumas funções built-in do python como o print() e o len(). Mas agora vamos ver como criar e utilizar user-defined funções.\n",
    "\n",
    "Estrutura básica de uma função user-defined no python:\n",
    "\n",
    "```python\n",
    "def nome_func(parametros):\n",
    "    \"\"\"\n",
    "    Esse é o documentation string (docstring) da função func_01.\n",
    "    Essa função simplesmente imprime o valor do argumento passado por parâmetro.\n",
    "    \"\"\"\n",
    "    declaracao()\n",
    "```\n",
    "\n",
    "O método *def* é o diminutivo de define. Ele transmite ao python que estará sendo definida uma função. Após há pode haver a explicitação do nome da função, que deve ser único conforme as mesmas regras de identificadores da aula 1. Então somente letras de A a Z, digitos numéricos e underscore, evitando palavras chaves como *break* por exemplo. É boa prática nomear uma função do Python de acordo com o que ela faz. Parâmetros são argumentos opcionais. : define o fim do header da função. O conteúdo da função deve estar em identação.\n",
    "\n",
    "É interessante lembrar também que docstring é um tipo especial de comentário, muito usado em modulos, funções, classes e métodos do python. Há métodos para acionar a docstring. Também para ela ser usada corretamente, ela deve ser a primeira coisa na função\n",
    "\n",
    "Lembramos também que chamar a função deve vir após a função ter sido definida. De outro modo você terá erros."
   ]
  },
  {
   "cell_type": "code",
   "execution_count": 2,
   "metadata": {},
   "outputs": [],
   "source": [
    "# Definindo uma nova função print\n",
    "def func_01(a):\n",
    "    \"\"\"\n",
    "    Esse é o documentation string (docstring) da função func_01.\n",
    "    Essa função simplesmente imprime o valor do argumento passado por parâmetro.\n",
    "    \"\"\"\n",
    "    print(a)"
   ]
  },
  {
   "cell_type": "code",
   "execution_count": 3,
   "metadata": {},
   "outputs": [
    {
     "name": "stdout",
     "output_type": "stream",
     "text": [
      "10.2\n"
     ]
    }
   ],
   "source": [
    "# Chamando a função func_01()\n",
    "func_01(10.2)"
   ]
  },
  {
   "cell_type": "code",
   "execution_count": 25,
   "metadata": {},
   "outputs": [
    {
     "data": {
      "text/plain": [
       "'\\n    Esse é o documentation string (docstring) da função func_01.\\n    Essa função simplesmente imprime o valor do argumento passado por parâmetro.\\n    '"
      ]
     },
     "execution_count": 25,
     "metadata": {},
     "output_type": "execute_result"
    }
   ],
   "source": [
    "# Podemos buscar a docstring da função a qualquer momento para entender com o atributo doc\n",
    "func_01.__doc__"
   ]
  },
  {
   "cell_type": "code",
   "execution_count": 4,
   "metadata": {},
   "outputs": [],
   "source": [
    "# Outra função com strings\n",
    "def cumprimento(nome):\n",
    "    # está função cumprimenta a pessoa\n",
    "    print(f\"Ola {nome} tenha um excelente dia!\")"
   ]
  },
  {
   "cell_type": "code",
   "execution_count": 5,
   "metadata": {},
   "outputs": [
    {
     "name": "stdout",
     "output_type": "stream",
     "text": [
      "Ola Tarik tenha um excelente dia!\n"
     ]
    }
   ],
   "source": [
    "cumprimento('Tarik')"
   ]
  },
  {
   "cell_type": "code",
   "execution_count": 6,
   "metadata": {},
   "outputs": [],
   "source": [
    "# O que acontece se colocarmos 12 ao invés de Tarik"
   ]
  },
  {
   "cell_type": "code",
   "execution_count": 23,
   "metadata": {},
   "outputs": [],
   "source": [
    "# Tente usar a função ___doc___ para a função cumrpimento"
   ]
  },
  {
   "cell_type": "markdown",
   "metadata": {},
   "source": [
    "Função Return\n",
    "\n",
    "O conceito de return é uma consequência da ideia de função. Uma função tem um objetivo definido, logo ao ser atingido este objetivo a função deve 1) finalizar a função e 2) possivelmente apresentar a informação a ser retornada pela função. \n",
    "\n",
    "Desse modo a instrução *return* é utilizada para declarar a informação a ser retornada pela função e para finalizar a execução do bloco de instrução da função, retornado assim, o valor que estiver a sua frente.\n",
    "\n",
    "Não é obrigatório em python.\n",
    " "
   ]
  },
  {
   "cell_type": "code",
   "execution_count": 31,
   "metadata": {},
   "outputs": [
    {
     "data": {
      "text/plain": [
       "'impar'"
      ]
     },
     "execution_count": 31,
     "metadata": {},
     "output_type": "execute_result"
    }
   ],
   "source": [
    "# Função que retorna se o número é par ou impar\n",
    "def func_02(a):\n",
    "    if a%2 == 0:\n",
    "        return 'par'\n",
    "    else:\n",
    "        return 'impar'\n",
    "func_02(7)"
   ]
  },
  {
   "cell_type": "code",
   "execution_count": 7,
   "metadata": {},
   "outputs": [],
   "source": [
    "# Uso do return retornar um valor. No caso uma raiz qualquer\n",
    "def raiz(r, num):\n",
    "    \"\"\"\n",
    "    Calcula raízes através da operação de potência.\n",
    "    \"\"\"\n",
    "    return num ** (1/r)"
   ]
  },
  {
   "cell_type": "code",
   "execution_count": 8,
   "metadata": {},
   "outputs": [
    {
     "name": "stdout",
     "output_type": "stream",
     "text": [
      "4.0\n",
      "3.0\n"
     ]
    }
   ],
   "source": [
    "## raiz quadrada de 16 e cúbica de 27\n",
    "a = raiz(2, 16)\n",
    "b = raiz(3, 27)\n",
    "print(a)\n",
    "print(b)"
   ]
  },
  {
   "cell_type": "code",
   "execution_count": 9,
   "metadata": {},
   "outputs": [
    {
     "data": {
      "text/plain": [
       "3.0"
      ]
     },
     "execution_count": 9,
     "metadata": {},
     "output_type": "execute_result"
    }
   ],
   "source": [
    "## também é posssível fazer de forma nomeada.\n",
    "c = raiz(num = 9, r = 2)\n",
    "c"
   ]
  },
  {
   "cell_type": "code",
   "execution_count": 10,
   "metadata": {},
   "outputs": [],
   "source": [
    "# Calcule a raiz cubica de 81"
   ]
  },
  {
   "cell_type": "code",
   "execution_count": 12,
   "metadata": {},
   "outputs": [],
   "source": [
    "# Usando Defaut\n",
    "def raiz(num, r =2):\n",
    "    \"\"\"\n",
    "    Calcula raízes através da operação de potência.\n",
    "    \"\"\"\n",
    "    return num ** (1/r)"
   ]
  },
  {
   "cell_type": "code",
   "execution_count": 13,
   "metadata": {},
   "outputs": [
    {
     "data": {
      "text/plain": [
       "4.0"
      ]
     },
     "execution_count": 13,
     "metadata": {},
     "output_type": "execute_result"
    }
   ],
   "source": [
    "d = raiz(16)\n",
    "d"
   ]
  },
  {
   "cell_type": "code",
   "execution_count": 14,
   "metadata": {},
   "outputs": [
    {
     "data": {
      "text/plain": [
       "3.0"
      ]
     },
     "execution_count": 14,
     "metadata": {},
     "output_type": "execute_result"
    }
   ],
   "source": [
    "# O default pode ser alterado mesmo assim\n",
    "e = raiz(27,3)\n",
    "e"
   ]
  },
  {
   "cell_type": "code",
   "execution_count": 15,
   "metadata": {},
   "outputs": [],
   "source": [
    "# Funções com for\n",
    "def soma(*nums):\n",
    "    \"\"\"\n",
    "    Exemplo de função usando parâmetros arbitrários\n",
    "    \"\"\"\n",
    "    print(type(nums))\n",
    "    soma = 0\n",
    "    for num in nums:\n",
    "        soma += num\n",
    "    return soma"
   ]
  },
  {
   "cell_type": "code",
   "execution_count": 16,
   "metadata": {},
   "outputs": [
    {
     "name": "stdout",
     "output_type": "stream",
     "text": [
      "<class 'tuple'>\n"
     ]
    },
    {
     "data": {
      "text/plain": [
       "34"
      ]
     },
     "execution_count": 16,
     "metadata": {},
     "output_type": "execute_result"
    }
   ],
   "source": [
    "soma(12, 22)"
   ]
  },
  {
   "cell_type": "code",
   "execution_count": 17,
   "metadata": {},
   "outputs": [
    {
     "name": "stdout",
     "output_type": "stream",
     "text": [
      "<class 'tuple'>\n"
     ]
    },
    {
     "data": {
      "text/plain": [
       "381.23"
      ]
     },
     "execution_count": 17,
     "metadata": {},
     "output_type": "execute_result"
    }
   ],
   "source": [
    "soma(120.01, 250.02, 11.2)"
   ]
  },
  {
   "cell_type": "code",
   "execution_count": 32,
   "metadata": {},
   "outputs": [],
   "source": [
    "# Faça a mesma função acima com valores 20.0, 123.09, 200, 1001.99"
   ]
  },
  {
   "cell_type": "code",
   "execution_count": 19,
   "metadata": {},
   "outputs": [],
   "source": [
    "# Você consegue adivinhar o que acontece se usarmos strings na função soma?"
   ]
  },
  {
   "cell_type": "markdown",
   "metadata": {},
   "source": [
    "# Escopo e Tempo de Vida das Variáveis\n",
    "\n",
    "Como vimos podemos chamar a função em qualquer parte do código. Basta nomear a função e passar os parâmetros necessários.\n",
    "\n",
    "Nem sempre é assim. É necessário analisar o escopo da variável. Esse escopo é a porção do programa onde a variável é reconhecida. Não só variáveis, mas outros objetos como classes e rótulos também possuem escopo, mas iremos nos ater as variáveis aqui. \n",
    "\n",
    "Entendendo esse contexto, podemos ver que parâmetros e variáveis definidos dentro da função *não são visiveis fora da função*. Ou seja ela tem um *escopo local*, diferente de variáveis definidas fora da função que tem um *escopo global*. Variáveis globais podem ser chamadas em qualquer parte do código. Esse fator é tão fundamental que podemos até mesmo declarar duas variáveis com o mesmo nome se tiverem escopos diferentes. É boa prática fazer a variável ter o menor escopo possível.\n",
    "\n",
    "Já o tempo de vida de uma variável é o período ao qual é armazenada na memória do computador a vinculação entre o nome e o valor. O tempo de vida de uma variável dentro da função é apenas enquanto a função executa. Uma vez que afunção é retornada, o computador não mais salva o valor da função e portanto não lembra o valor de outras vezes que tenha sido chamada."
   ]
  },
  {
   "cell_type": "code",
   "execution_count": 38,
   "metadata": {},
   "outputs": [
    {
     "name": "stdout",
     "output_type": "stream",
     "text": [
      "Valor Dentro da função: 10\n",
      "Valor fora da função: 20\n"
     ]
    }
   ],
   "source": [
    "# Exemplo de função local e tempo de vida da variável\n",
    "# Embora a variável x = 20 tenha sido alterado dentro da função, ele não altera o valor fora da função\n",
    "x = 20\n",
    "def funclocal():\n",
    "\tx = 10\n",
    "\tprint('Valor dentro da função:', x)\n",
    "\n",
    "funclocal()\n",
    "print(\"Valor fora da função:\",x)"
   ]
  },
  {
   "cell_type": "code",
   "execution_count": 45,
   "metadata": {},
   "outputs": [
    {
     "name": "stdout",
     "output_type": "stream",
     "text": [
      "10\n"
     ]
    }
   ],
   "source": [
    "# Valores que existem apenas na função não podem ser acessados globalmente.\n",
    "def func_03():\n",
    "    y= 10\n",
    "    print(y)\n",
    "func_03()"
   ]
  },
  {
   "cell_type": "code",
   "execution_count": 46,
   "metadata": {},
   "outputs": [
    {
     "ename": "NameError",
     "evalue": "name 'y' is not defined",
     "output_type": "error",
     "traceback": [
      "\u001b[1;31m---------------------------------------------------------------------------\u001b[0m",
      "\u001b[1;31mNameError\u001b[0m                                 Traceback (most recent call last)",
      "\u001b[1;32m~\\AppData\\Local\\Temp/ipykernel_4240/1255541759.py\u001b[0m in \u001b[0;36m<module>\u001b[1;34m\u001b[0m\n\u001b[0;32m      1\u001b[0m \u001b[1;31m# Tentando acessar a variável local y interna à função func_03\u001b[0m\u001b[1;33m\u001b[0m\u001b[1;33m\u001b[0m\u001b[0m\n\u001b[1;32m----> 2\u001b[1;33m \u001b[0my\u001b[0m\u001b[1;33m\u001b[0m\u001b[1;33m\u001b[0m\u001b[0m\n\u001b[0m",
      "\u001b[1;31mNameError\u001b[0m: name 'y' is not defined"
     ]
    }
   ],
   "source": [
    "# Tentando acessar a variável local y interna à função func_03\n",
    "y"
   ]
  },
  {
   "cell_type": "code",
   "execution_count": 49,
   "metadata": {},
   "outputs": [
    {
     "name": "stdout",
     "output_type": "stream",
     "text": [
      "10\n"
     ]
    }
   ],
   "source": [
    "# Variáveis declaradas fora de funções são globais, mas pode-se definir variáveis internas como globais\n",
    "def func_03():\n",
    "    global y\n",
    "    y= 10\n",
    "    print(y)\n",
    "func_03()\n"
   ]
  },
  {
   "cell_type": "code",
   "execution_count": 53,
   "metadata": {},
   "outputs": [
    {
     "name": "stdout",
     "output_type": "stream",
     "text": [
      "7\n"
     ]
    }
   ],
   "source": [
    "def func_4():\n",
    "    print('7')\n",
    "func_4()"
   ]
  },
  {
   "cell_type": "code",
   "execution_count": 54,
   "metadata": {},
   "outputs": [
    {
     "ename": "NameError",
     "evalue": "name 'func4' is not defined",
     "output_type": "error",
     "traceback": [
      "\u001b[1;31m---------------------------------------------------------------------------\u001b[0m",
      "\u001b[1;31mNameError\u001b[0m                                 Traceback (most recent call last)",
      "\u001b[1;32m~\\AppData\\Local\\Temp/ipykernel_4240/2423390666.py\u001b[0m in \u001b[0;36m<module>\u001b[1;34m\u001b[0m\n\u001b[0;32m      1\u001b[0m \u001b[1;31m# Para deletar função\u001b[0m\u001b[1;33m\u001b[0m\u001b[1;33m\u001b[0m\u001b[0m\n\u001b[1;32m----> 2\u001b[1;33m \u001b[1;32mdel\u001b[0m \u001b[0mfunc4\u001b[0m\u001b[1;33m\u001b[0m\u001b[1;33m\u001b[0m\u001b[0m\n\u001b[0m\u001b[0;32m      3\u001b[0m \u001b[0mfunc4\u001b[0m\u001b[1;33m(\u001b[0m\u001b[1;33m)\u001b[0m\u001b[1;33m\u001b[0m\u001b[1;33m\u001b[0m\u001b[0m\n",
      "\u001b[1;31mNameError\u001b[0m: name 'func4' is not defined"
     ]
    }
   ],
   "source": [
    "# Para deletar função basta usar palavra chave del\n",
    "del func4\n",
    "func4()"
   ]
  },
  {
   "cell_type": "code",
   "execution_count": 1,
   "metadata": {},
   "outputs": [],
   "source": [
    "# Usando função com vários tipos de laços e conjuntos\n",
    "# Analisando se há números em duplicatas\n",
    "def busca_duplicatas(elementos):\n",
    "    duplicatas, vistos = set(), set()\n",
    "    for elemento in elementos:\n",
    "        if elemento in vistos:\n",
    "            duplicatas.add(elemento)\n",
    "        vistos.add(elemento)\n",
    "    return list(duplicatas)\n"
   ]
  },
  {
   "cell_type": "code",
   "execution_count": 2,
   "metadata": {},
   "outputs": [],
   "source": [
    "listanova = [1, 2, 3, 4, 5, 5, 6, 6]"
   ]
  },
  {
   "cell_type": "code",
   "execution_count": 3,
   "metadata": {},
   "outputs": [
    {
     "data": {
      "text/plain": [
       "[5, 6]"
      ]
     },
     "execution_count": 3,
     "metadata": {},
     "output_type": "execute_result"
    }
   ],
   "source": [
    "busca_duplicatas(listanova)"
   ]
  },
  {
   "cell_type": "code",
   "execution_count": 8,
   "metadata": {},
   "outputs": [],
   "source": [
    "# Funções com calculo\n",
    "\n",
    "def conta_total(conta,gorjeta_perc = 10):\n",
    "  total = conta*(1 + 0.01*gorjeta_perc) # 10*0.01 é igual a 0.1\n",
    "  total = round(total,2)\n",
    "  print(f\"sua conta é R$ {total}\")"
   ]
  },
  {
   "cell_type": "code",
   "execution_count": 9,
   "metadata": {},
   "outputs": [
    {
     "name": "stdout",
     "output_type": "stream",
     "text": [
      "sua conta é R$11.0\n"
     ]
    }
   ],
   "source": [
    "conta_total(10.00)"
   ]
  },
  {
   "cell_type": "code",
   "execution_count": 11,
   "metadata": {},
   "outputs": [],
   "source": [
    "# o que você poderia fazer para retirar o 0.01 do código acima. "
   ]
  },
  {
   "cell_type": "code",
   "execution_count": null,
   "metadata": {},
   "outputs": [],
   "source": [
    "# Faça o código acima sem o default de 10% de gorjeta, mas com 5%"
   ]
  },
  {
   "cell_type": "markdown",
   "metadata": {},
   "source": [
    "# Funções Lambda\n",
    "\n",
    "Não necessáriamente funções precisam de nome. Podemos usar a palavra chave lambda para criar funções anônimas.\n",
    "\n",
    "\n",
    "A função lambida não pode ser chamada novamente, assim pode-se utilizar uma variavel para armazená-la;\n",
    "\n",
    "Redução da função Potencia declarada para uma função lamda\n",
    "\n",
    "```python\n",
    "def potencia(num,pot):\n",
    "    result = num**pot\n",
    "    return result\n",
    "```"
   ]
  },
  {
   "cell_type": "code",
   "execution_count": 55,
   "metadata": {},
   "outputs": [],
   "source": [
    "def potencia(num,pot):\n",
    "    result = num**pot\n",
    "    return result"
   ]
  },
  {
   "cell_type": "code",
   "execution_count": 56,
   "metadata": {},
   "outputs": [
    {
     "data": {
      "text/plain": [
       "243"
      ]
     },
     "execution_count": 56,
     "metadata": {},
     "output_type": "execute_result"
    }
   ],
   "source": [
    "a = potencia(3,5)\n",
    "a"
   ]
  },
  {
   "cell_type": "code",
   "execution_count": 57,
   "metadata": {},
   "outputs": [
    {
     "data": {
      "text/plain": [
       "125"
      ]
     },
     "execution_count": 57,
     "metadata": {},
     "output_type": "execute_result"
    }
   ],
   "source": [
    "## utilizando lambida para criar uma função anonima\n",
    "# armazena-se em uma variável caso seja necessário chamar a função\n",
    "lambda_pot = lambda num, pot: num**pot\n",
    "\n",
    "e = lambda_pot(5,3)\n",
    "\n",
    "e"
   ]
  },
  {
   "cell_type": "markdown",
   "metadata": {},
   "source": [
    "# Função recursiva\n",
    "Função recursiva são aquelas que chamam a se mesmas. "
   ]
  },
  {
   "cell_type": "code",
   "execution_count": 60,
   "metadata": {},
   "outputs": [
    {
     "data": {
      "text/plain": [
       "720"
      ]
     },
     "execution_count": 60,
     "metadata": {},
     "output_type": "execute_result"
    }
   ],
   "source": [
    "# Função recursiva para calculo de fatorial (n! = n*n-1*n-2...1)\n",
    "def facto(n):\n",
    "  if n==1:\n",
    "    return 1\n",
    "  return n*facto(n-1)\n",
    "facto(6)"
   ]
  },
  {
   "cell_type": "markdown",
   "metadata": {},
   "source": [
    "# Exercícios:\n",
    "\n",
    "- 1- Faça um programa para imprimir: \n",
    "```python\n",
    "\n",
    "    1\n",
    "    2   2\n",
    "    3   3   3\n",
    "    .....\n",
    "    n   n   n   n   n   n  ... n\n",
    "```\n",
    "Sendo n uma variável informada pelo usuário. Use uma função que receba um valor n inteiro e imprima até a n-ésima linha. \n",
    "\n",
    "- 2- Faça um programa com uma função que leia dois números e imprima o somatório conforme o modelo exemplo\n",
    "2 + 3 = 5\n",
    "\n",
    "- 3- Analise o código abaixo e diga, o que ele faz e como\n",
    "```python\n",
    "def reverso(string):\n",
    "    if len(string) <=1:\n",
    "        return string\n",
    "    return reverso(string[1:])+string[0]\n",
    "print(reverso('Ola Você'))\n",
    "```\n",
    "\n",
    "- 4- Crie uma função que que leia duas variáveis: nome e lugar e imprima a mensagem: Ola! nome, você é de lugar, chame a função com os valores João e Belo Horizonte\n",
    "\n",
    "- 5- Crie uma função para calcular o volume de um cubo. Lembrando que um cubo tem base, altura e profundidade.\n",
    "\n",
    "- 6- Analise a função abaixo. Logo depois é executado em terminal os três comandos abaixo da função. Qual é o output?\n",
    "\n",
    "```python\n",
    "def fred():\n",
    "    print(\"Zap\")\n",
    "def jane():\n",
    "    print(\"ABC\")\n",
    "\n",
    "----\n",
    "jane()\n",
    "fred()\n",
    "jane()\n",
    "```"
   ]
  }
 ],
 "metadata": {
  "kernelspec": {
   "display_name": "Python 3.9.7 ('base')",
   "language": "python",
   "name": "python3"
  },
  "language_info": {
   "codemirror_mode": {
    "name": "ipython",
    "version": 3
   },
   "file_extension": ".py",
   "mimetype": "text/x-python",
   "name": "python",
   "nbconvert_exporter": "python",
   "pygments_lexer": "ipython3",
   "version": "3.9.7"
  },
  "orig_nbformat": 4,
  "vscode": {
   "interpreter": {
    "hash": "c8244fbad4f74a14bb437976f80d62c90eb41cacdaf4831dcafe60ff9183122e"
   }
  }
 },
 "nbformat": 4,
 "nbformat_minor": 2
}
