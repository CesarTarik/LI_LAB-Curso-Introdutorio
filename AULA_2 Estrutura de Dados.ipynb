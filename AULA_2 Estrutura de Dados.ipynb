{
 "cells": [
  {
   "cell_type": "markdown",
   "metadata": {},
   "source": [
    "## AULA_2 ##\n",
    "Alguns aspectos de Estrutura de Dados em Pthon: Listas, tuplas, dicionários 01/09"
   ]
  },
  {
   "cell_type": "markdown",
   "metadata": {},
   "source": [
    "## Estruturas de Dados ##\n",
    "\n",
    "Estruturas de dados é uma forma de organização, métodos de acesso e processamento dos dados. \n",
    "\n",
    "Existem diversos tipos de estruturas como vetores, árvores, pilhas etc. Algumas são mais gerais, outras são específicas de cada linguagem. Nós veremos algumas estruturas básicas do Python."
   ]
  },
  {
   "cell_type": "markdown",
   "metadata": {},
   "source": [
    "## Vetor e Lista\n",
    "\n",
    "Vetores são a forma mais simples e comum de estrutura de dados. Vetor é uma sequência de dados homogênios ocupando posições consecutivas da memória e, portanto, tendo uma ordem natural entre os elementos. Existindo ordem cada elemento pode serobtido via seu indice. Um vetor na linguagem C é declarado da seguinte forma:\n",
    "\n",
    "```python\n",
    "float vet[4]\n",
    "```\n",
    "\n",
    "Tipo | V1 | V2 | V3 | V4\n",
    ":-- |:--| :--| :--| :--| \n",
    "Valor  | 22 | 56 | 2 | 37\n",
    "Indice | 0  | 1  | 2 | 3\n",
    "\n",
    "\n",
    "Diferentemente de várias outras linguagens de programação imperativas *não existe vetores no Python nativo*. O python implementa, ao invés disso, listas um tipo semelhante de estrutura de dados. A lista, assim como o vetor é uma sequência de dados ocupando posições consecutivas na memória com sua posição também chamada de índice. O primeiro elemento fica armazenado na posição *0*, enquanto o último elemento fica armazenado na posição *n-1* (onde *n* é a quantidade de elementos da lista). A grande diferença entre lista e vetor é que a lista não é homogênia. Vamos ver a baixo como funciona e como lidar com listas\n",
    "\n",
    "Voltaremos a vetores com o Numpy mais a frente."
   ]
  },
  {
   "cell_type": "code",
   "execution_count": 1,
   "metadata": {},
   "outputs": [
    {
     "data": {
      "text/plain": [
       "list"
      ]
     },
     "execution_count": 1,
     "metadata": {},
     "output_type": "execute_result"
    }
   ],
   "source": [
    "# Criando uma lista vazia\n",
    "lista_vazia = []\n",
    "lista_vazia2 = list()\n",
    "# Visualizando o tipo\n",
    "type(lista_vazia)"
   ]
  },
  {
   "cell_type": "code",
   "execution_count": 2,
   "metadata": {},
   "outputs": [
    {
     "data": {
      "text/plain": [
       "0"
      ]
     },
     "execution_count": 2,
     "metadata": {},
     "output_type": "execute_result"
    }
   ],
   "source": [
    "# Verificando o tamanho da lista\n",
    "len(lista_vazia)"
   ]
  },
  {
   "cell_type": "code",
   "execution_count": 2,
   "metadata": {},
   "outputs": [],
   "source": [
    "# Criando listas com elementos\n",
    "lista = [23, 56, 2, -3, 10, 2, 18, 0, 5]\n",
    "lista_reais = [1.5, -2.13, 5.14]\n",
    "lista_strings = [\"Yuri\", \"C++\", \"DTIBR\", \"Legal Informatics\"]\n",
    "lista_booleanos = [True, True, False, True]\n",
    "lista_misturada = [1, 2, 3.14159, \"teste\"]\n",
    "lista_misturada2 = [1, 2, 3.14159, \"teste\", [1, \"A\", 1.0]]\n",
    "listas_aninhadas = [ [1, 2, 3], [4, 5, 6], [7, 8, 9]]"
   ]
  },
  {
   "cell_type": "code",
   "execution_count": 5,
   "metadata": {},
   "outputs": [
    {
     "data": {
      "text/plain": [
       "23"
      ]
     },
     "execution_count": 5,
     "metadata": {},
     "output_type": "execute_result"
    }
   ],
   "source": [
    "# Acessando o índice 0 (primeira posição)\n",
    "lista[0]"
   ]
  },
  {
   "cell_type": "code",
   "execution_count": 6,
   "metadata": {},
   "outputs": [
    {
     "data": {
      "text/plain": [
       "2"
      ]
     },
     "execution_count": 6,
     "metadata": {},
     "output_type": "execute_result"
    }
   ],
   "source": [
    "# Acessando o índice 2 (terceira posição)\n",
    "lista[2]"
   ]
  },
  {
   "cell_type": "code",
   "execution_count": 7,
   "metadata": {},
   "outputs": [
    {
     "data": {
      "text/plain": [
       "'Legal Informatics'"
      ]
     },
     "execution_count": 7,
     "metadata": {},
     "output_type": "execute_result"
    }
   ],
   "source": [
    "# Acessando o índice 3 (quarta posição)\n",
    "lista_strings[3]"
   ]
  },
  {
   "cell_type": "code",
   "execution_count": 8,
   "metadata": {},
   "outputs": [
    {
     "data": {
      "text/plain": [
       "[23, 18, 2, -3, 10, 2, 18, 0, 5]"
      ]
     },
     "execution_count": 8,
     "metadata": {},
     "output_type": "execute_result"
    }
   ],
   "source": [
    "# Alterando o elemento do índice 1 de 56 para 18\n",
    "lista[1] = 18\n",
    "lista"
   ]
  },
  {
   "cell_type": "code",
   "execution_count": 9,
   "metadata": {},
   "outputs": [
    {
     "data": {
      "text/plain": [
       "[23, 18, 41, -3, 10, 2, 18, 0, 5]"
      ]
     },
     "execution_count": 9,
     "metadata": {},
     "output_type": "execute_result"
    }
   ],
   "source": [
    "# Modificando o elemento do índice 2. Ele recebe a soma dos dois elementos anteriores\n",
    "lista[2] = lista[0] + lista[1]\n",
    "lista"
   ]
  },
  {
   "cell_type": "code",
   "execution_count": 10,
   "metadata": {},
   "outputs": [
    {
     "data": {
      "text/plain": [
       "[4, 5, 6]"
      ]
     },
     "execution_count": 10,
     "metadata": {},
     "output_type": "execute_result"
    }
   ],
   "source": [
    "# listas em listas\n",
    "listas_aninhadas[1]"
   ]
  },
  {
   "cell_type": "markdown",
   "metadata": {},
   "source": [
    "### Principais métodos de um objeto lista\n",
    "\n",
    "Método | Descrição | Exemplo\n",
    ":----- | :-------- | :------\n",
    "append | Adiciona um elemento no final da lista | `lista.append(5)`\n",
    "clear  | Apaga todos os elementos de uma lista | `lista.clear()`\n",
    "copy | Retorna uma cópia dos elementos da lista | `copia = lista.copy()`\n",
    "count | Retorna a quantidade de ocorrências de um elemento na lista | `qt = lista.count(5)`\n",
    "extend | Adiciona os elementos de outra lista passada por parâmetro | `lista.extend(outra_lista)`\n",
    "index | Retorna o índice do elemento passado por parâmetro (primeira posição) | `pos5 = lista.index(5)`\n",
    "insert | Adiciona um elemento em uma posição passada por parâmetro (adiciona no final caso a posição não exista)| `lista.insert(3, \"João\")`\n",
    "pop | Remove o elemento na posição passada por parâmetro (provoca um erro caso a posição não exista)| `elemento = lista.pop(3)`\n",
    "remove | Remove o elemento passado por parâmetro (provoca um erro caso o elemento não exista)| `lista.remove(5)`\n",
    "reverse | Inverte a ordem dos elementos de uma lista | `lista.reverse()`\n",
    "sort | Ordena os objetos de uma lista | `lista.sort()`\n",
    " | | `lista.sort(reverse=True)`"
   ]
  },
  {
   "cell_type": "code",
   "execution_count": 11,
   "metadata": {},
   "outputs": [
    {
     "data": {
      "text/plain": [
       "[23, 18, 41, -3, 10, 2, 18, 0, 5]"
      ]
     },
     "execution_count": 11,
     "metadata": {},
     "output_type": "execute_result"
    }
   ],
   "source": [
    "# Visualizando a lista antes da chamada ao método append()\n",
    "lista"
   ]
  },
  {
   "cell_type": "code",
   "execution_count": 12,
   "metadata": {},
   "outputs": [],
   "source": [
    "# Adicionado o 17 no final da lista\n",
    "lista.append(17)"
   ]
  },
  {
   "cell_type": "code",
   "execution_count": 13,
   "metadata": {},
   "outputs": [
    {
     "data": {
      "text/plain": [
       "[23, 18, 41, -3, 10, 2, 18, 0, 5, 17]"
      ]
     },
     "execution_count": 13,
     "metadata": {},
     "output_type": "execute_result"
    }
   ],
   "source": [
    "# Visualizando a lista após chamada ao método append()\n",
    "lista"
   ]
  },
  {
   "cell_type": "code",
   "execution_count": 14,
   "metadata": {},
   "outputs": [
    {
     "data": {
      "text/plain": [
       "[]"
      ]
     },
     "execution_count": 14,
     "metadata": {},
     "output_type": "execute_result"
    }
   ],
   "source": [
    "# Removendo todos os ementos de lista_reais\n",
    "lista_reais.clear()\n",
    "lista_reais"
   ]
  },
  {
   "cell_type": "code",
   "execution_count": 15,
   "metadata": {},
   "outputs": [],
   "source": [
    "# Copiando uma lista para outra? \n",
    "copia = lista"
   ]
  },
  {
   "cell_type": "code",
   "execution_count": 16,
   "metadata": {},
   "outputs": [
    {
     "data": {
      "text/plain": [
       "[23, 18, 41, -3, 10, 2, 18, 0, 5, 17]"
      ]
     },
     "execution_count": 16,
     "metadata": {},
     "output_type": "execute_result"
    }
   ],
   "source": [
    "# Visualizando o conteúdo de copia\n",
    "copia"
   ]
  },
  {
   "cell_type": "code",
   "execution_count": 17,
   "metadata": {},
   "outputs": [],
   "source": [
    "# Alterando o elemento do índice 0 de 23 para 5\n",
    "copia[0] = 5"
   ]
  },
  {
   "cell_type": "code",
   "execution_count": 18,
   "metadata": {},
   "outputs": [
    {
     "data": {
      "text/plain": [
       "[5, 18, 41, -3, 10, 2, 18, 0, 5, 17]"
      ]
     },
     "execution_count": 18,
     "metadata": {},
     "output_type": "execute_result"
    }
   ],
   "source": [
    "# Visualizando o conteúdo de copia\n",
    "copia"
   ]
  },
  {
   "cell_type": "code",
   "execution_count": 19,
   "metadata": {},
   "outputs": [
    {
     "data": {
      "text/plain": [
       "[5, 18, 41, -3, 10, 2, 18, 0, 5, 17]"
      ]
     },
     "execution_count": 19,
     "metadata": {},
     "output_type": "execute_result"
    }
   ],
   "source": [
    "# Visualizando o conteúdo de lista (Perceba que o elemento 23 também foi alterado na lista, e não apenas em copia)\n",
    "lista"
   ]
  },
  {
   "cell_type": "markdown",
   "metadata": {},
   "source": [
    "O problema anterior é simples. A variável copia é um ponteiro. Ponteiros são muito usados ​​em C e C++ . Com os ponteiros, a alocação dinâmica de memória é possível. Os ponteiros podem ser declarados como variáveis ​​que mantêm o endereço de memória de outra variável."
   ]
  },
  {
   "cell_type": "code",
   "execution_count": 20,
   "metadata": {},
   "outputs": [],
   "source": [
    "# Desfazendo a alteração no índice 0, modificando de 5 para 23\n",
    "lista[0] = 23"
   ]
  },
  {
   "cell_type": "code",
   "execution_count": 21,
   "metadata": {},
   "outputs": [],
   "source": [
    "# A maneira correta de copiar uma lista para outra é através da chamada ao método copy()\n",
    "copia = lista.copy()"
   ]
  },
  {
   "cell_type": "code",
   "execution_count": 22,
   "metadata": {},
   "outputs": [
    {
     "data": {
      "text/plain": [
       "1"
      ]
     },
     "execution_count": 22,
     "metadata": {},
     "output_type": "execute_result"
    }
   ],
   "source": [
    "# Verificando quantas vezes o número 5 aparece em copia\n",
    "copia.count(5)"
   ]
  },
  {
   "cell_type": "code",
   "execution_count": 28,
   "metadata": {},
   "outputs": [
    {
     "data": {
      "text/plain": [
       "[5, 18, 41, -3, 10, 2, 18, 0, 5, 17]"
      ]
     },
     "execution_count": 28,
     "metadata": {},
     "output_type": "execute_result"
    }
   ],
   "source": [
    "# Vamos ver se deu certo\n",
    "copia"
   ]
  },
  {
   "cell_type": "code",
   "execution_count": 29,
   "metadata": {},
   "outputs": [],
   "source": [
    "copia[0] = 5"
   ]
  },
  {
   "cell_type": "code",
   "execution_count": 26,
   "metadata": {},
   "outputs": [
    {
     "data": {
      "text/plain": [
       "[5, 18, 41, -3, 10, 2, 18, 0, 5, 17]"
      ]
     },
     "execution_count": 26,
     "metadata": {},
     "output_type": "execute_result"
    }
   ],
   "source": [
    "copia"
   ]
  },
  {
   "cell_type": "code",
   "execution_count": 31,
   "metadata": {},
   "outputs": [
    {
     "data": {
      "text/plain": [
       "[23, 18, 41, -3, 10, 2, 18, 0, 5, 17]"
      ]
     },
     "execution_count": 31,
     "metadata": {},
     "output_type": "execute_result"
    }
   ],
   "source": [
    "# Permance o 21 na variavel lista\n",
    "lista"
   ]
  },
  {
   "cell_type": "code",
   "execution_count": 32,
   "metadata": {},
   "outputs": [
    {
     "data": {
      "text/plain": [
       "[1, 2, 3, 4, 5]"
      ]
     },
     "execution_count": 32,
     "metadata": {},
     "output_type": "execute_result"
    }
   ],
   "source": [
    "# A maneira correta de adicionar novos elementos de uma lista, a partir de outra lista, é através do método extend()\n",
    "numeros = [1, 2, 3]\n",
    "numeros.extend([4,5])\n",
    "numeros"
   ]
  },
  {
   "cell_type": "code",
   "execution_count": 33,
   "metadata": {},
   "outputs": [],
   "source": [
    "# Redefinindo os elementos da lista\n",
    "lista = [1, 3, 7, 2, 3, 8, 4]"
   ]
  },
  {
   "cell_type": "code",
   "execution_count": 34,
   "metadata": {},
   "outputs": [
    {
     "data": {
      "text/plain": [
       "2"
      ]
     },
     "execution_count": 34,
     "metadata": {},
     "output_type": "execute_result"
    }
   ],
   "source": [
    "# O método index nos permite saber em que posição determinado elemento está armazenado\n",
    "lista.index(7)"
   ]
  },
  {
   "cell_type": "code",
   "execution_count": 35,
   "metadata": {},
   "outputs": [],
   "source": [
    "# Podemos guardar esse valor em uma variável\n",
    "posicao8 = lista.index(8)"
   ]
  },
  {
   "cell_type": "code",
   "execution_count": 36,
   "metadata": {},
   "outputs": [
    {
     "data": {
      "text/plain": [
       "5"
      ]
     },
     "execution_count": 36,
     "metadata": {},
     "output_type": "execute_result"
    }
   ],
   "source": [
    "posicao8"
   ]
  },
  {
   "cell_type": "code",
   "execution_count": 37,
   "metadata": {},
   "outputs": [
    {
     "data": {
      "text/plain": [
       "[1, 3, 'ABC', 7, 2, 3, 8, 4]"
      ]
     },
     "execution_count": 37,
     "metadata": {},
     "output_type": "execute_result"
    }
   ],
   "source": [
    "# O método insert() permite adicionar um elemento em qualquer posição da lista. \n",
    "# Caso a posição não exista, ele insere o elemento desejado na última posição\n",
    "lista.insert(2, \"ABC\")\n",
    "lista"
   ]
  },
  {
   "cell_type": "code",
   "execution_count": 38,
   "metadata": {},
   "outputs": [
    {
     "data": {
      "text/plain": [
       "'ABC'"
      ]
     },
     "execution_count": 38,
     "metadata": {},
     "output_type": "execute_result"
    }
   ],
   "source": [
    "# Utilizamos o método pop() quando desejamos apagar uma posição da lista\n",
    "# Removendo o elemento no índice 2\n",
    "valor = lista.pop(2)\n",
    "# Visualizando o valor retornado\n",
    "valor"
   ]
  },
  {
   "cell_type": "code",
   "execution_count": 39,
   "metadata": {},
   "outputs": [
    {
     "data": {
      "text/plain": [
       "[1, 3, 7, 2, 3, 8]"
      ]
     },
     "execution_count": 39,
     "metadata": {},
     "output_type": "execute_result"
    }
   ],
   "source": [
    "# Removendo o elemento da última posição\n",
    "lista.pop(-1)\n",
    "# Visualizando a lista após a remoção \n",
    "lista"
   ]
  },
  {
   "cell_type": "code",
   "execution_count": 40,
   "metadata": {},
   "outputs": [
    {
     "data": {
      "text/plain": [
       "['Yuri', 'C++', 'DTIBR', 'Legal Informatics']"
      ]
     },
     "execution_count": 40,
     "metadata": {},
     "output_type": "execute_result"
    }
   ],
   "source": [
    "# Utilizamos o método remove() quando desejamos apagar um elemento específico da lista\n",
    "# Visualizando lista_strings antes da remoção\n",
    "lista_strings"
   ]
  },
  {
   "cell_type": "code",
   "execution_count": 41,
   "metadata": {},
   "outputs": [
    {
     "data": {
      "text/plain": [
       "['Yuri', 'DTIBR', 'Legal Informatics']"
      ]
     },
     "execution_count": 41,
     "metadata": {},
     "output_type": "execute_result"
    }
   ],
   "source": [
    "# Removendo \"C++\"\n",
    "lista_strings.remove(\"C++\")\n",
    "lista_strings"
   ]
  },
  {
   "cell_type": "code",
   "execution_count": 43,
   "metadata": {},
   "outputs": [
    {
     "data": {
      "text/plain": [
       "[1, 3, 7, 2, 3, 8]"
      ]
     },
     "execution_count": 43,
     "metadata": {},
     "output_type": "execute_result"
    }
   ],
   "source": [
    "# Invertendo os elementos da lista\n",
    "lista.reverse()\n",
    "lista"
   ]
  },
  {
   "cell_type": "code",
   "execution_count": 45,
   "metadata": {},
   "outputs": [
    {
     "data": {
      "text/plain": [
       "[1, 3, 7, 2, 3, 8]"
      ]
     },
     "execution_count": 45,
     "metadata": {},
     "output_type": "execute_result"
    }
   ],
   "source": [
    "# Slicing Listas\n",
    "lista"
   ]
  },
  {
   "cell_type": "code",
   "execution_count": 47,
   "metadata": {},
   "outputs": [
    {
     "data": {
      "text/plain": [
       "[3, 7, 2]"
      ]
     },
     "execution_count": 47,
     "metadata": {},
     "output_type": "execute_result"
    }
   ],
   "source": [
    "# Selecionando valores no indice 1 ao 3\n",
    "lista[1:4]"
   ]
  },
  {
   "cell_type": "code",
   "execution_count": 48,
   "metadata": {},
   "outputs": [
    {
     "data": {
      "text/plain": [
       "[1, 3]"
      ]
     },
     "execution_count": 48,
     "metadata": {},
     "output_type": "execute_result"
    }
   ],
   "source": [
    "# selecionando valores a partir do primeiro indice ate o 2\n",
    "lista[:2]"
   ]
  },
  {
   "cell_type": "markdown",
   "metadata": {},
   "source": [
    "# Tuplas\n",
    "\n",
    "Do mesmo modo que a lista, as tuplas também são coleções de elementos. A principal diferença é que a tupla é imutável. Uma vez criada ela não pode ser alterada."
   ]
  },
  {
   "cell_type": "code",
   "execution_count": 49,
   "metadata": {},
   "outputs": [],
   "source": [
    "# Criando tuplas com elementos\n",
    "tupla1 = (3, 19, 4, 21, 3, 5, 13)\n",
    "tupla2 = (3, 19, 4, 21, 3, 5, 13, \"tupla\", (1, 2, 3))\n",
    "tupla3 = (3, 19, 4, 21, 3, 5, 13, \"tupla\", [1, 2, 3])"
   ]
  },
  {
   "cell_type": "code",
   "execution_count": 50,
   "metadata": {},
   "outputs": [
    {
     "data": {
      "text/plain": [
       "7"
      ]
     },
     "execution_count": 50,
     "metadata": {},
     "output_type": "execute_result"
    }
   ],
   "source": [
    "len(tupla1)"
   ]
  },
  {
   "cell_type": "code",
   "execution_count": 51,
   "metadata": {},
   "outputs": [
    {
     "data": {
      "text/plain": [
       "3"
      ]
     },
     "execution_count": 51,
     "metadata": {},
     "output_type": "execute_result"
    }
   ],
   "source": [
    "# Acessando o índice 0 (primeira posição) de tupla2\n",
    "tupla2[0]"
   ]
  },
  {
   "cell_type": "code",
   "execution_count": 52,
   "metadata": {},
   "outputs": [
    {
     "ename": "TypeError",
     "evalue": "'tuple' object does not support item assignment",
     "output_type": "error",
     "traceback": [
      "\u001b[1;31m---------------------------------------------------------------------------\u001b[0m",
      "\u001b[1;31mTypeError\u001b[0m                                 Traceback (most recent call last)",
      "\u001b[1;32m~\\AppData\\Local\\Temp/ipykernel_17064/3563809655.py\u001b[0m in \u001b[0;36m<module>\u001b[1;34m\u001b[0m\n\u001b[0;32m      1\u001b[0m \u001b[1;31m# Atribuindo o valor 5 ao índice 0 de tupla1 provocará um erro\u001b[0m\u001b[1;33m\u001b[0m\u001b[1;33m\u001b[0m\u001b[0m\n\u001b[1;32m----> 2\u001b[1;33m \u001b[0mtupla1\u001b[0m\u001b[1;33m[\u001b[0m\u001b[1;36m0\u001b[0m\u001b[1;33m]\u001b[0m \u001b[1;33m=\u001b[0m \u001b[1;36m5\u001b[0m\u001b[1;33m\u001b[0m\u001b[1;33m\u001b[0m\u001b[0m\n\u001b[0m",
      "\u001b[1;31mTypeError\u001b[0m: 'tuple' object does not support item assignment"
     ]
    }
   ],
   "source": [
    "# Atribuindo o valor 5 ao índice 0 de tupla1 provocará um erro\n",
    "tupla1[0] = 5"
   ]
  },
  {
   "cell_type": "code",
   "execution_count": 53,
   "metadata": {},
   "outputs": [],
   "source": [
    "# O mesmo não ocorre ao tentar atribuir 5 ao índice 1, da lista armazenada no índice 8. \n",
    "# O motivo é que a tupla não está sendo alterada. O índice 8 continua contendo uma lista. \n",
    "# Essa lista, por sua vez, é que teve um de seus valores alterados\n",
    "tupla3[8][1] = 5"
   ]
  },
  {
   "cell_type": "code",
   "execution_count": 54,
   "metadata": {},
   "outputs": [],
   "source": [
    "# Podemos adicionar elementos à lista armazenada no índice 8 da tupla\n",
    "tupla3[8].extend([4, 5, 6])"
   ]
  },
  {
   "cell_type": "code",
   "execution_count": 55,
   "metadata": {},
   "outputs": [
    {
     "data": {
      "text/plain": [
       "(3, 19, 4, 21, 3, 5, 13, 'tupla', [1, 5, 3, 4, 5, 6])"
      ]
     },
     "execution_count": 55,
     "metadata": {},
     "output_type": "execute_result"
    }
   ],
   "source": [
    "tupla3"
   ]
  },
  {
   "cell_type": "code",
   "execution_count": 56,
   "metadata": {},
   "outputs": [
    {
     "data": {
      "text/plain": [
       "[3, 19, 4, 21, 3, 5, 13]"
      ]
     },
     "execution_count": 56,
     "metadata": {},
     "output_type": "execute_result"
    }
   ],
   "source": [
    "# Convertendo tupla em lista\n",
    "lista = list(tupla1)\n",
    "lista"
   ]
  },
  {
   "cell_type": "markdown",
   "metadata": {},
   "source": [
    "# Conjuntos\n",
    "\n",
    "Conjuntos são uma das estruturas mais importantes. Conjuntos no python seguem a ideia de conjunto da matemática. Eles não tem valores repetidos. Eles também, diferentemente da tupla e da lista não tem ordem. Eles são definidos por {} e são heterogênios. Embora sejam mutáveis, não pode-se armazenar items mutáveis nele como listas.\n",
    "\n",
    "Como eles são desordenados não é possível usar index ou slicing."
   ]
  },
  {
   "cell_type": "code",
   "execution_count": 63,
   "metadata": {},
   "outputs": [],
   "source": [
    "meuconjunto = {1, 2, 3, 4}\n",
    "meuconjunto1 = {1, 2, 'jacare', 2.17}"
   ]
  },
  {
   "cell_type": "code",
   "execution_count": 59,
   "metadata": {},
   "outputs": [
    {
     "data": {
      "text/plain": [
       "set"
      ]
     },
     "execution_count": 59,
     "metadata": {},
     "output_type": "execute_result"
    }
   ],
   "source": [
    "# outra forma de criar um conjunto é set()\n",
    "\n",
    "meuconjunto2 = set()\n",
    "type(meuconjunto2)"
   ]
  },
  {
   "cell_type": "code",
   "execution_count": 64,
   "metadata": {},
   "outputs": [
    {
     "data": {
      "text/plain": [
       "{1, 2, 2.17}"
      ]
     },
     "execution_count": 64,
     "metadata": {},
     "output_type": "execute_result"
    }
   ],
   "source": [
    "# para deletar elementos do set\n",
    "meuconjunto1.discard('jacare')\n",
    "meuconjunto1\n"
   ]
  },
  {
   "cell_type": "markdown",
   "metadata": {},
   "source": [
    "# Dicionários #\n",
    "\n",
    "Um dicionário é uma coleção de elementos que possuem uma *chave* e um *valor*, assim ao invés de um índice, usamos a *chave* para recuperar um *valor*"
   ]
  },
  {
   "cell_type": "code",
   "execution_count": 1,
   "metadata": {},
   "outputs": [],
   "source": [
    "# Criando dicionários vazios. Para criar, ou se usa chaves, ou se instancia o objeto dict.\n",
    "dic_vazio1 = {}\n",
    "dic_vazio2 = dict()"
   ]
  },
  {
   "cell_type": "code",
   "execution_count": 2,
   "metadata": {},
   "outputs": [
    {
     "data": {
      "text/plain": [
       "dict"
      ]
     },
     "execution_count": 2,
     "metadata": {},
     "output_type": "execute_result"
    }
   ],
   "source": [
    "# Visualizando o tipo de dic_vazio1\n",
    "type(dic_vazio1)"
   ]
  },
  {
   "cell_type": "code",
   "execution_count": 3,
   "metadata": {},
   "outputs": [
    {
     "data": {
      "text/plain": [
       "True"
      ]
     },
     "execution_count": 3,
     "metadata": {},
     "output_type": "execute_result"
    }
   ],
   "source": [
    "# Verificando se dic_vazio2 é uma instância de dict\n",
    "isinstance(dic_vazio2, dict)"
   ]
  },
  {
   "cell_type": "code",
   "execution_count": 4,
   "metadata": {},
   "outputs": [
    {
     "data": {
      "text/plain": [
       "{'MG': 'Minas Gerais',\n",
       " 'PR': 'Paraná',\n",
       " 'BA': 'Bahia',\n",
       " 'RN': 'Rio Grande do Norte',\n",
       " 'AM': 'Amzonas'}"
      ]
     },
     "execution_count": 4,
     "metadata": {},
     "output_type": "execute_result"
    }
   ],
   "source": [
    "# Criando dicionários com pares chave/valor\n",
    "\n",
    "# Dicionário de estados: chave é a sigla do estado e valor é o nome completo\n",
    "dic_estados = { \"MG\":\"Minas Gerais\", \"PR\": \"Paraná\", \"BA\": \"Bahia\", \"RN\": \"Rio Grande do Norte\", \"AM\": \"Amzonas\"}\n",
    "# Obs: o nome do estado Amazonas foi digitado errado de forma intencional\n",
    "dic_estados"
   ]
  },
  {
   "cell_type": "code",
   "execution_count": 6,
   "metadata": {},
   "outputs": [
    {
     "data": {
      "text/plain": [
       "{'Gabriel': [10, 12, 21], 'Luiz': [20, 30, 29], 'Camila': [20, 23, 19]}"
      ]
     },
     "execution_count": 6,
     "metadata": {},
     "output_type": "execute_result"
    }
   ],
   "source": [
    "# Dicionário de alunos: chave é o nome e valor é uma lista com 3 notas do aluno\n",
    "dic_notas_alunos = {\"Gabriel\":[10, 12, 21], \"Luiz\": [20, 30, 29], \"Camila\": [20, 23, 19]}\n",
    "dic_notas_alunos"
   ]
  },
  {
   "cell_type": "code",
   "execution_count": 7,
   "metadata": {},
   "outputs": [
    {
     "data": {
      "text/plain": [
       "'Paraná'"
      ]
     },
     "execution_count": 7,
     "metadata": {},
     "output_type": "execute_result"
    }
   ],
   "source": [
    "# Acessando o valor associado à chave \"PR\"\n",
    "dic_estados[\"PR\"]"
   ]
  },
  {
   "cell_type": "code",
   "execution_count": 8,
   "metadata": {},
   "outputs": [
    {
     "name": "stdout",
     "output_type": "stream",
     "text": [
      "Eu nasci em Minas Gerais.\n"
     ]
    }
   ],
   "source": [
    "# Acessando o valor associado à chave \"MG\" dentro de um comando print\n",
    "print(\"Eu nasci em \"+dic_estados[\"MG\"]+\".\")"
   ]
  },
  {
   "cell_type": "code",
   "execution_count": 9,
   "metadata": {},
   "outputs": [
    {
     "name": "stdout",
     "output_type": "stream",
     "text": [
      "As notas de Gabriel foram: [10, 12, 21].\n"
     ]
    }
   ],
   "source": [
    "# Acessando o valor associado à chave \"Gabriel\" no dicionário dic_notas_aluno\n",
    "nome_aluno = \"Gabriel\"\n",
    "print(\"As notas de \"+nome_aluno+\" foram: \"+str(dic_notas_alunos[nome_aluno])+\".\")"
   ]
  },
  {
   "cell_type": "code",
   "execution_count": 10,
   "metadata": {},
   "outputs": [
    {
     "name": "stdout",
     "output_type": "stream",
     "text": [
      "Gabriel tirou 10 pontos na 1a prova.\n"
     ]
    }
   ],
   "source": [
    "print(nome_aluno+\" tirou \"+str(dic_notas_alunos[nome_aluno][0])+\" pontos na 1a prova.\")"
   ]
  },
  {
   "cell_type": "code",
   "execution_count": 11,
   "metadata": {},
   "outputs": [
    {
     "data": {
      "text/plain": [
       "{'MG': 'Minas Gerais',\n",
       " 'PR': 'Paraná',\n",
       " 'BA': 'Bahia',\n",
       " 'RN': 'Rio Grande do Norte',\n",
       " 'AM': 'Amzonas'}"
      ]
     },
     "execution_count": 11,
     "metadata": {},
     "output_type": "execute_result"
    }
   ],
   "source": [
    "## Modificando o codigo equivado em estados\n",
    "dic_estados"
   ]
  },
  {
   "cell_type": "code",
   "execution_count": 12,
   "metadata": {},
   "outputs": [
    {
     "data": {
      "text/plain": [
       "{'MG': 'Minas Gerais',\n",
       " 'PR': 'Paraná',\n",
       " 'BA': 'Bahia',\n",
       " 'RN': 'Rio Grande do Norte',\n",
       " 'AM': 'Amazonas'}"
      ]
     },
     "execution_count": 12,
     "metadata": {},
     "output_type": "execute_result"
    }
   ],
   "source": [
    "# Corrigindo o nome do estado Amazonas\n",
    "dic_estados[\"AM\"] = \"Amazonas\"\n",
    "dic_estados"
   ]
  },
  {
   "cell_type": "code",
   "execution_count": 13,
   "metadata": {},
   "outputs": [
    {
     "data": {
      "text/plain": [
       "{'Gabriel': [10, 25, 21], 'Luiz': [20, 30, 29], 'Camila': [20, 23, 19]}"
      ]
     },
     "execution_count": 13,
     "metadata": {},
     "output_type": "execute_result"
    }
   ],
   "source": [
    "# Alterando a segunda nota de Gabriel para 25\n",
    "dic_notas_alunos[\"Gabriel\"][1] = 25\n",
    "dic_notas_alunos"
   ]
  },
  {
   "cell_type": "markdown",
   "metadata": {},
   "source": [
    "### 4. Principais métodos de um objeto dicionário\n",
    "\n",
    "Método | Descrição | Exemplo\n",
    ":----- | :-------- | :------\n",
    "clear  | Apaga todos os elementos de um dicionário | `dic.clear()`\n",
    "copy | Retorna uma cópia dos elementos de um dicionário | `dic_copia = dic.copy()`\n",
    "fromkeys | Retorna um dicionário a partir de uma sequência de chaves | `exemplo = dic.fromkeys({\"k1\", \"k4\", \"k5\"})`\n",
    "get | Retorna o valor associado a uma chave | `dic.get(\"k1\")`\n",
    " |  | `dic.get(\"k1\", 0)`\n",
    "items | Retorna uma visão dos pares chave/valor de um dicionário | `dic.items()`\n",
    "keys | Retorna uma visão das chaves de um dicionário | `dic.keys()`\n",
    "pop | Remove e retorna o elemento associado à chave passada por parâmetro (provoca erro se a chave não existir) | `dic.pop(2)`\n",
    "popitem | Remove e retorna o último elemento adicionado ao dicionário | `dic.popitem()`\n",
    "setdefault | Retorna o valor associado a uma chave (se a chave existir). Caso não exista, insere a chave com o valor (opcional) no dicionário | `dic.setdefault(2, \"dois\")`\n",
    "update | Adiciona ao dicionário os pares de chave/valor de outro dicionário passado por parâmetro | `dic.update(dic2)`\n",
    "values | Retorna uma visão dos valores de um dicionário | `dic.values"
   ]
  },
  {
   "cell_type": "code",
   "execution_count": 15,
   "metadata": {},
   "outputs": [
    {
     "data": {
      "text/plain": [
       "{1: 'um', 2: 'dois', 3: 'três', 4: 'quatro'}"
      ]
     },
     "execution_count": 15,
     "metadata": {},
     "output_type": "execute_result"
    }
   ],
   "source": [
    "# Redefinido dic_exemplo\n",
    "dic_exemplo = {1:\"um\", 2:\"dois\", 3:\"três\", 4:\"quatro\"}\n",
    "dic_exemplo"
   ]
  },
  {
   "cell_type": "code",
   "execution_count": 17,
   "metadata": {},
   "outputs": [
    {
     "data": {
      "text/plain": [
       "{1: 'um', 2: 'dois', 3: 'três', 4: 'quatro'}"
      ]
     },
     "execution_count": 17,
     "metadata": {},
     "output_type": "execute_result"
    }
   ],
   "source": [
    "# Criando uma cópia de dic_exemplo usando o método copy()\n",
    "dic_exemplo2 = dic_exemplo.copy()\n",
    "dic_exemplo2\n",
    "\n",
    "## Obs: Isso já foi discutido na aula sobre listas. Se simplesmente atribuirmos dic_exemplo a dic_exemplo2 (**`dic_exemplo2 = dic_exemplo`**), não estaremos copiando seus elementos, mas criando uma referência (ou um apelido)."
   ]
  },
  {
   "cell_type": "code",
   "execution_count": 18,
   "metadata": {},
   "outputs": [
    {
     "data": {
      "text/plain": [
       "'dois'"
      ]
     },
     "execution_count": 18,
     "metadata": {},
     "output_type": "execute_result"
    }
   ],
   "source": [
    "# O método get retorna o valor associado a uma chave\n",
    "# Visualizando o valor associado à chave 2\n",
    "dic_exemplo.get(2)"
   ]
  },
  {
   "cell_type": "code",
   "execution_count": 19,
   "metadata": {},
   "outputs": [
    {
     "data": {
      "text/plain": [
       "{2: None, 4: None, 6: None, 8: None, 10: None}"
      ]
     },
     "execution_count": 19,
     "metadata": {},
     "output_type": "execute_result"
    }
   ],
   "source": [
    "# Criando um novo dicionário a partir da seleção das chaves que desejamos\n",
    "dic_num_pares = dict.fromkeys([2, 4, 6, 8, 10])\n",
    "dic_num_pares"
   ]
  },
  {
   "cell_type": "code",
   "execution_count": 20,
   "metadata": {},
   "outputs": [
    {
     "data": {
      "text/plain": [
       "{2: 'par', 4: 'par', 6: 'par', 8: 'par', 10: 'par'}"
      ]
     },
     "execution_count": 20,
     "metadata": {},
     "output_type": "execute_result"
    }
   ],
   "source": [
    "# Se desejarmos atribuir um valor default, basta informar após a lista com as chaves\n",
    "dic_num_pares = dict.fromkeys([2, 4, 6, 8, 10], \"par\")\n",
    "dic_num_pares"
   ]
  },
  {
   "cell_type": "code",
   "execution_count": 21,
   "metadata": {},
   "outputs": [
    {
     "data": {
      "text/plain": [
       "{'MS': 'Mato Grosso do Sul', 'TO': 'Tocantins', 'GO': 'Goiás'}"
      ]
     },
     "execution_count": 21,
     "metadata": {},
     "output_type": "execute_result"
    }
   ],
   "source": [
    "# Definindo o dicionário dic_estados_centro_oeste com alguns dos estados da região Centro Oeste\n",
    "dic_estados_centro_oeste = {\"MS\": \"Mato Grosso do Sul\", \"TO\": \"Tocantins\", \"GO\": \"Goiás\"}\n",
    "dic_estados_centro_oeste"
   ]
  },
  {
   "cell_type": "code",
   "execution_count": 22,
   "metadata": {},
   "outputs": [
    {
     "data": {
      "text/plain": [
       "{'MG': 'Minas Gerais',\n",
       " 'PR': 'Paraná',\n",
       " 'BA': 'Bahia',\n",
       " 'RN': 'Rio Grande do Norte',\n",
       " 'AM': 'Amazonas',\n",
       " 'MS': 'Mato Grosso do Sul',\n",
       " 'TO': 'Tocantins',\n",
       " 'GO': 'Goiás'}"
      ]
     },
     "execution_count": 22,
     "metadata": {},
     "output_type": "execute_result"
    }
   ],
   "source": [
    "# Adicionando os estados do Centro Oeste ao dicionário dic_estados\n",
    "dic_estados.update(dic_estados_centro_oeste)\n",
    "dic_estados"
   ]
  },
  {
   "cell_type": "markdown",
   "metadata": {},
   "source": [
    "Atividade Avaliativa 1\n",
    "\n",
    "- 1- Gere uma lista com os seguintes valores: Caio, 14, 28.9, Avião. (1 Ponto)\n",
    "- 2- É possível gerar um vetor com os seguintes valores (escreva em Markdown): 3.5, True, Gato, Varanda. (1 Ponto)\n",
    "- 3- Crie dois dicionários, o primeiro com a chave que indique cursos de direito com os valores Penal, Civil e Administrativo. O segundo com chave novos cursos e os valores Proteção de Dados, Smart Contracts, Jurimetria. (2 Ponto)\n",
    "- 4- Utilizando os dicionários criados na questão 3, Una os dois dicionários em um só. (2 Ponto)\n",
    "- 5- Gere uma lista com valores quaisquer. Cria uma nova lista apontando para a lista original, mas que seja independente. (1 Ponto)\n",
    "- 6- Converta as seguintes expressões matemáticas para que possam ser calculadas usando o interpretador Python. 1) 10 + 20 × 30 2) 42 ÷ 30 3) (94 + 2) × 6 - 1 (2 Ponto)\n",
    "- 7- Crie e mostre quantos elementos tem uma dada tupla com os seguintes valores: 2, jacare, vitoria, 25.22 (1 Ponto)\n"
   ]
  }
 ],
 "metadata": {
  "interpreter": {
   "hash": "c8244fbad4f74a14bb437976f80d62c90eb41cacdaf4831dcafe60ff9183122e"
  },
  "kernelspec": {
   "display_name": "Python 3.9.7 ('base')",
   "language": "python",
   "name": "python3"
  },
  "language_info": {
   "codemirror_mode": {
    "name": "ipython",
    "version": 3
   },
   "file_extension": ".py",
   "mimetype": "text/x-python",
   "name": "python",
   "nbconvert_exporter": "python",
   "pygments_lexer": "ipython3",
   "version": "3.9.7"
  },
  "orig_nbformat": 4
 },
 "nbformat": 4,
 "nbformat_minor": 2
}
