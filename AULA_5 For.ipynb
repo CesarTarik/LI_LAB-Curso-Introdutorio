{
 "cells": [
  {
   "cell_type": "markdown",
   "metadata": {},
   "source": [
    "# AULA 5\n",
    "For\n"
   ]
  },
  {
   "cell_type": "markdown",
   "metadata": {},
   "source": [
    "#  Loop For\n",
    "O loop for no Python é usado para iterar sobre partes do programa diversas vezes. É usado para iterar sobre estruturas de dados como listas, dicionários, tuplas etc. A estrutura de repetição for permite executar um bloco de códigos repetidas vezes até que uma condição seja verdadeira. \n",
    "\n",
    "O conceito de iterável em Python significa que um objeto iterável é aquele que tem a capacidade de retornar cada um de seus elementos de forma individual.\n",
    "\n",
    "O laço for é usado em várias linguagens. Em comparação com outras linguagens o for do Python funciona de forma distinta. O laço for nessas linguagens é usado em váriaveis de tipo inteiro que funciona como índice de controle para a quantidade de vezes que a repetição é feita. Exemplo padrão abaixo nessas linguagens.\n",
    "\n",
    "```python\n",
    "for i = 1 to 5\n",
    "    print(i)\n",
    "```\n",
    "\n",
    "O interessante que o loop for *não funciona desse modo em Python*. Esse código acima retorna um erro de execução se for feito em python. O laço de repetição for só funciona com os tipos de dados que permitem iterações e o tipo numérico não possui tal característica. A lógica funciona da seguinte forma:\n",
    "\n",
    "```python\n",
    "for val in sequencia:\n",
    "    <bloco_de_comandos>\n",
    "```"
   ]
  },
  {
   "cell_type": "code",
   "execution_count": 1,
   "metadata": {},
   "outputs": [],
   "source": [
    "# Um exemplo do uso do For\n",
    "direito = ['Constitucional', 'Administrativo', 'Civil', 'Empresarial', 'Familia', 'Penal']"
   ]
  },
  {
   "cell_type": "code",
   "execution_count": 2,
   "metadata": {},
   "outputs": [
    {
     "name": "stdout",
     "output_type": "stream",
     "text": [
      "Constitucional\n",
      "Administrativo\n",
      "Civil\n",
      "Empresarial\n",
      "Familia\n",
      "Penal\n"
     ]
    }
   ],
   "source": [
    "# Dificuldades de fazer print de vários items. Imagine se fossem 35 prints?\n",
    "print(direito[0])\n",
    "print(direito[1])\n",
    "print(direito[2])\n",
    "print(direito[3])\n",
    "print(direito[4])\n",
    "print(direito[5])"
   ]
  },
  {
   "cell_type": "code",
   "execution_count": 3,
   "metadata": {},
   "outputs": [
    {
     "name": "stdout",
     "output_type": "stream",
     "text": [
      "Constitucional\n",
      "Administrativo\n",
      "Civil\n",
      "Empresarial\n",
      "Familia\n",
      "Penal\n"
     ]
    }
   ],
   "source": [
    "# Utiliza-se o loop for para realizar repetições\n",
    "# no caso cria-se var elementos para armazenar o conteudo da var direito.append\n",
    "# Então demanda-se que haja o print das variáveis armazenadas em elementos\n",
    "for elementos in direito:\n",
    "    print(elementos)"
   ]
  },
  {
   "cell_type": "code",
   "execution_count": 9,
   "metadata": {},
   "outputs": [
    {
     "name": "stdout",
     "output_type": "stream",
     "text": [
      "1\n",
      "19\n",
      "2\n",
      "15\n",
      "21\n",
      "12\n",
      "2\n"
     ]
    }
   ],
   "source": [
    "# Dada lista itera-se sobre cada um e imprime-se\n",
    "lista = [1, 19, 2, 15, 21, 12, 2]\n",
    "for num in lista:\n",
    "    print(num)"
   ]
  },
  {
   "cell_type": "code",
   "execution_count": 7,
   "metadata": {},
   "outputs": [
    {
     "name": "stdout",
     "output_type": "stream",
     "text": [
      "1\n",
      "19\n",
      "5\n",
      "12\n",
      "6\n"
     ]
    }
   ],
   "source": [
    "# Sobre tuplas\n",
    "tupla = (1, 19, 5, 12, 6)\n",
    "for ele in tupla:\n",
    "    print(ele)"
   ]
  },
  {
   "cell_type": "code",
   "execution_count": null,
   "metadata": {},
   "outputs": [],
   "source": [
    "# Faça você uma lista com 7 numeros e print com laço for"
   ]
  },
  {
   "cell_type": "code",
   "execution_count": 8,
   "metadata": {},
   "outputs": [
    {
     "name": "stdout",
     "output_type": "stream",
     "text": [
      "MG\n",
      "PR\n",
      "BA\n",
      "RN\n",
      "AM\n"
     ]
    }
   ],
   "source": [
    "# Iterando Sobre dicionarios e apresentando chave\n",
    "dic_estados = { \"MG\":\"Minas Gerais\", \"PR\": \"Paraná\", \"BA\": \"Bahia\", \"RN\": \"Rio Grande do Norte\", \"AM\": \"Amzonas\"}\n",
    "for est in dic_estados:\n",
    "    print(est)"
   ]
  },
  {
   "cell_type": "code",
   "execution_count": 9,
   "metadata": {},
   "outputs": [
    {
     "name": "stdout",
     "output_type": "stream",
     "text": [
      "Minas Gerais\n",
      "Paraná\n",
      "Bahia\n",
      "Rio Grande do Norte\n",
      "Amzonas\n"
     ]
    }
   ],
   "source": [
    "# Valores do dicionário\n",
    "for est in dic_estados.values():\n",
    "    print(est)"
   ]
  },
  {
   "cell_type": "code",
   "execution_count": 11,
   "metadata": {},
   "outputs": [
    {
     "name": "stdout",
     "output_type": "stream",
     "text": [
      "A sigla para Minas Gerais é MG.\n",
      "A sigla para Paraná é PR.\n",
      "A sigla para Bahia é BA.\n",
      "A sigla para Rio Grande do Norte é RN.\n",
      "A sigla para Amzonas é AM.\n"
     ]
    }
   ],
   "source": [
    "# Items ele analise tanto a chave quanto o valor do dic\n",
    "for (sig,est) in dic_estados.items():\n",
    "    print(f\"A sigla para {est} é {sig}.\")"
   ]
  },
  {
   "cell_type": "code",
   "execution_count": 6,
   "metadata": {},
   "outputs": [
    {
     "data": {
      "text/plain": [
       "[1, 2, 3, 4, 5, 6, 7, 8, 9, 10, 11, 12, 13, 14, 15, 16, 17, 18, 19, 20]"
      ]
     },
     "execution_count": 6,
     "metadata": {},
     "output_type": "execute_result"
    }
   ],
   "source": [
    "# Usando o for em conjunto com o range e append para criar lista\n",
    "lista1 = []\n",
    "for i in range(1, 21):\n",
    "    lista1.append(i)\n",
    "lista1"
   ]
  },
  {
   "cell_type": "code",
   "execution_count": 13,
   "metadata": {},
   "outputs": [],
   "source": [
    "# Crie uma lista entre os números 10 e 15"
   ]
  },
  {
   "cell_type": "markdown",
   "metadata": {},
   "source": [
    "# Range\n",
    "\n",
    "- A função range() é bastante usada em conjunto com o for. Essa função gera um objeto iteravel que vai do início a n-1. Por padrão ela começa por 0 e é incrimentada por 1. Mas isso é alterável. Ele é formado pelo valor de ínicio (opcional), de parada (obrigatório) e de incremento (opcional).\n",
    "\n",
    "```python\n",
    "range(início, parada, incremento)\n",
    "```\n",
    "```python\n",
    "range(5)\n",
    "----\n",
    "output\n",
    "Valores de 0 a 4\n",
    "```\n",
    "\n",
    "Outro parâmetro da função é o passo ou intervalo. Ao invés de iterar de um número em um, ele pode iterar em outros passos. \n",
    "```python\n",
    "range(1, 10, 2).\n",
    "----\n",
    "output\n",
    "Valores de 1 a 9, passando de 2 em 2:\n",
    "1,3,5,7,9\n",
    "```\n",
    "\n"
   ]
  },
  {
   "cell_type": "code",
   "execution_count": 7,
   "metadata": {},
   "outputs": [
    {
     "data": {
      "text/plain": [
       "[2, 4, 6, 8, 10, 12, 14, 16, 18, 20]"
      ]
     },
     "execution_count": 7,
     "metadata": {},
     "output_type": "execute_result"
    }
   ],
   "source": [
    "# Outro exemplo: criar uma lista de números pares entre 1 e 20\n",
    "# If junto ao for\n",
    "pares = []\n",
    "for i in range(1, 21):\n",
    "    if i%2 == 0:\n",
    "        pares.append(i)\n",
    "pares"
   ]
  },
  {
   "cell_type": "code",
   "execution_count": 11,
   "metadata": {},
   "outputs": [
    {
     "name": "stdout",
     "output_type": "stream",
     "text": [
      "O número 1 é ímpar.\n",
      "O número 19 é ímpar.\n",
      "O número 2 é par.\n",
      "O número 15 é ímpar.\n",
      "O número 21 é ímpar.\n",
      "O número 12 é par.\n",
      "O número 2 é par.\n"
     ]
    }
   ],
   "source": [
    "# Verificando se um número é par ou ímpar e usando if else junto ao for\n",
    "for num in lista:\n",
    "    if num % 2 == 0:\n",
    "        print (f'O número {num} é par.')\n",
    "    else:\n",
    "        print(f'O número {num} é ímpar.')"
   ]
  },
  {
   "cell_type": "code",
   "execution_count": 12,
   "metadata": {},
   "outputs": [
    {
     "name": "stdout",
     "output_type": "stream",
     "text": [
      "A lista contem 3 números pares e 4 números ímpares.\n"
     ]
    }
   ],
   "source": [
    "# Contador [impares e pares]\n",
    "cont_impar = 0\n",
    "cont_par = 0\n",
    "for num in lista:\n",
    "    if num % 2 == 0:\n",
    "        cont_par += 1\n",
    "    else:\n",
    "        cont_impar += 1\n",
    "print(f\"A lista contem {cont_par} números pares e {cont_impar} números ímpares.\")"
   ]
  },
  {
   "cell_type": "code",
   "execution_count": 14,
   "metadata": {},
   "outputs": [],
   "source": [
    "# Crie uma nova lista é apresente os números pares e ímpares, assim como o somatório deles\n"
   ]
  },
  {
   "cell_type": "code",
   "execution_count": 17,
   "metadata": {},
   "outputs": [
    {
     "name": "stdout",
     "output_type": "stream",
     "text": [
      "A soma dos elementos da lista =  72\n"
     ]
    }
   ],
   "source": [
    "# Somatório\n",
    "soma = 0\n",
    "for n in lista:\n",
    "    soma += n\n",
    "print(\"A soma dos elementos da lista = \", soma)"
   ]
  },
  {
   "cell_type": "code",
   "execution_count": 18,
   "metadata": {},
   "outputs": [
    {
     "name": "stdout",
     "output_type": "stream",
     "text": [
      "A soma dos elementos da lista =  72\n"
     ]
    }
   ],
   "source": [
    "# Há uma forma mais simples de calcular somatórios\n",
    "print(\"A soma dos elementos da lista = \", sum(lista))"
   ]
  },
  {
   "cell_type": "code",
   "execution_count": 19,
   "metadata": {},
   "outputs": [
    {
     "name": "stdout",
     "output_type": "stream",
     "text": [
      "A soma dos elementos ímpares da lista =  56\n"
     ]
    }
   ],
   "source": [
    "# Mas a função sum() não permite somar elementos específicos\n",
    "soma_impar = 0\n",
    "for n in lista:\n",
    "    if n % 2 == 1:\n",
    "        soma_impar = soma_impar + n # sompa_impar += n\n",
    "print(\"A soma dos elementos ímpares da lista = \", soma_impar)"
   ]
  },
  {
   "cell_type": "code",
   "execution_count": 20,
   "metadata": {},
   "outputs": [
    {
     "name": "stdout",
     "output_type": "stream",
     "text": [
      "Carro\n",
      "Bicicleta\n"
     ]
    }
   ],
   "source": [
    "# Também podemos usar break com o for\n",
    "\n",
    "veiculo = ['Carro','Bicicleta','Onibus','Tempo']\n",
    "\n",
    "for v in veiculo:\n",
    "    if v == \"Onibus\":\n",
    "        break\n",
    "    print(v)"
   ]
  },
  {
   "cell_type": "code",
   "execution_count": 21,
   "metadata": {},
   "outputs": [
    {
     "name": "stdout",
     "output_type": "stream",
     "text": [
      "Carro\n",
      "Bicicleta\n",
      "Tempo\n"
     ]
    }
   ],
   "source": [
    "# Podemos usar Continue com o for, ele para em um valor e continua após esse vaor\n",
    "\n",
    "veiculo = ['Carro','Bicicleta','Onibus','Tempo']\n",
    "\n",
    "for v in veiculo:\n",
    "    if v == \"Onibus\":\n",
    "        continue\n",
    "    print(v)"
   ]
  },
  {
   "cell_type": "code",
   "execution_count": 22,
   "metadata": {},
   "outputs": [
    {
     "name": "stdout",
     "output_type": "stream",
     "text": [
      "euqaiaC\n",
      "\n"
     ]
    }
   ],
   "source": [
    "# For com Strings\n",
    "# Programa que lê uma palavra e mostra o reverso dela\n",
    "palavra = input(\"Adicione uma Palavra: \")\n",
    "\n",
    "for char in range(len(palavra) - 1, -1, -1):\n",
    "  print(palavra[char], end=\"\")\n",
    "print(\"\\n\")"
   ]
  },
  {
   "cell_type": "code",
   "execution_count": 29,
   "metadata": {},
   "outputs": [
    {
     "name": "stdout",
     "output_type": "stream",
     "text": [
      "k\n",
      "i\n",
      "r\n",
      "a\n",
      "T\n"
     ]
    }
   ],
   "source": [
    "# For com Strings\n",
    "# Programa que lê uma palavra e mostra o reverso dela\n",
    "palavra = input(\"Adicione uma Palavra: \")\n",
    "\n",
    "for char in range(len(palavra) - 1, -1, -1):\n",
    "  print(palavra[char], end=\"\") #End força aparecer como palavra\n"
   ]
  },
  {
   "cell_type": "code",
   "execution_count": 28,
   "metadata": {},
   "outputs": [
    {
     "name": "stdout",
     "output_type": "stream",
     "text": [
      "Civil é oferecido em São Paulo\n"
     ]
    }
   ],
   "source": [
    "## Utilizando algo mais\n",
    "cursos = [({'nome': 'Administrativo', 'cidade': 'Belo Horizonte'}),\n",
    "                     ({'nome': 'Civil', 'cidade': 'São Paulo'}),\n",
    "                     ({'nome': 'Penal', 'cidade': 'Curitiba'})]\n",
    "contador = 0\n",
    "for curso in cursos:\n",
    "    contador += 1\n",
    "    if curso['nome'] == 'Civil':\n",
    "        print(curso['nome'], \"é oferecido em\", curso['cidade'])\n",
    "        break"
   ]
  },
  {
   "cell_type": "code",
   "execution_count": 25,
   "metadata": {},
   "outputs": [
    {
     "name": "stdout",
     "output_type": "stream",
     "text": [
      "Penal é oferecido em Curitiba\n"
     ]
    }
   ],
   "source": [
    "# O que acontece se alterar para Penal\n"
   ]
  },
  {
   "cell_type": "code",
   "execution_count": 30,
   "metadata": {},
   "outputs": [
    {
     "name": "stdout",
     "output_type": "stream",
     "text": [
      "Administrativo é oferecido em Belo Horizonte\n",
      "Penal é oferecido em Curitiba\n"
     ]
    }
   ],
   "source": [
    "# o que acontece se alterarmos para continue\n",
    "\n",
    "## Utilizando algo mais\n",
    "cursos = [({'nome': 'Administrativo', 'cidade': 'Belo Horizonte'}),\n",
    "                     ({'nome': 'Civil', 'cidade': 'São Paulo'}),\n",
    "                     ({'nome': 'Penal', 'cidade': 'Curitiba'})]\n",
    "contador = 0\n",
    "for curso in cursos:\n",
    "    contador += 1\n",
    "    if curso['nome'] == 'Civil':\n",
    "        continue\n",
    "    print(curso['nome'], \"é oferecido em\", curso['cidade'])"
   ]
  },
  {
   "cell_type": "code",
   "execution_count": 33,
   "metadata": {},
   "outputs": [
    {
     "name": "stdout",
     "output_type": "stream",
     "text": [
      "Tabuada do  2\n",
      "2 x 0  =  0\n",
      "2 x 1  =  2\n",
      "2 x 2  =  4\n",
      "2 x 3  =  6\n",
      "2 x 4  =  8\n",
      "2 x 5  =  10\n",
      "2 x 6  =  12\n",
      "2 x 7  =  14\n",
      "2 x 8  =  16\n",
      "2 x 9  =  18\n",
      "Tabuada do  3\n",
      "3 x 0  =  0\n",
      "3 x 1  =  3\n",
      "3 x 2  =  6\n",
      "3 x 3  =  9\n",
      "3 x 4  =  12\n",
      "3 x 5  =  15\n",
      "3 x 6  =  18\n",
      "3 x 7  =  21\n",
      "3 x 8  =  24\n",
      "3 x 9  =  27\n",
      "Tabuada do  4\n",
      "4 x 0  =  0\n",
      "4 x 1  =  4\n",
      "4 x 2  =  8\n",
      "4 x 3  =  12\n",
      "4 x 4  =  16\n",
      "4 x 5  =  20\n",
      "4 x 6  =  24\n",
      "4 x 7  =  28\n",
      "4 x 8  =  32\n",
      "4 x 9  =  36\n"
     ]
    }
   ],
   "source": [
    "# Laços aninhados (Nested Loops)\n",
    "# Várias vezes podemos utilizar um loop dentro de outro.\n",
    "# É necessário cautela, pois é sua utilização excessiva não é boa prática\n",
    "\n",
    "for numero_coluna1 in range(2, 5):\n",
    "    print(\"Tabuada do \", numero_coluna1)\n",
    "    for numero_coluna2 in range(10):\n",
    "        print(numero_coluna1, \"x\", numero_coluna2, \" = \", numero_coluna1 * numero_coluna2)"
   ]
  },
  {
   "cell_type": "markdown",
   "metadata": {},
   "source": [
    "Exercícios\n",
    "- 1- Faça uma lista com 5 nomes. Crie um loop que print a mensagem \"Olá NOME\" para cada um dos nomes criados. (2 Pontos)\n",
    "\n",
    "- 2-Escreva um programa Python que construa o seguinte padrão abaixo no output a partir de um loop for. (2 Pontos)\n",
    "\n",
    "```python\n",
    "* \n",
    "* * \n",
    "* * * \n",
    "* * * * \n",
    "* * * * * \n",
    "* * * * \n",
    "* * * \n",
    "* * \n",
    "*\n",
    "```\n",
    "\n",
    "- 3- Escreva um programa que ache os multiplos de 5 numa lista que contenha os numeros 2, 3, 5, 10, 11, 15, 22, 25, 33, 35. (2 Pontos)\n",
    "\n",
    "- 4- Escreva um programa que copie elementos de uma lista com valores: Internacional, Penal, Civil, Empresarial para outra lista. (2 Pontos)\n",
    "\n",
    "- 5- Faça um programa que imprima as tabuadas de 5 e 6 por 2 (2 Pontos)"
   ]
  }
 ],
 "metadata": {
  "kernelspec": {
   "display_name": "Python 3.9.7 ('base')",
   "language": "python",
   "name": "python3"
  },
  "language_info": {
   "codemirror_mode": {
    "name": "ipython",
    "version": 3
   },
   "file_extension": ".py",
   "mimetype": "text/x-python",
   "name": "python",
   "nbconvert_exporter": "python",
   "pygments_lexer": "ipython3",
   "version": "3.9.7"
  },
  "orig_nbformat": 4,
  "vscode": {
   "interpreter": {
    "hash": "c8244fbad4f74a14bb437976f80d62c90eb41cacdaf4831dcafe60ff9183122e"
   }
  }
 },
 "nbformat": 4,
 "nbformat_minor": 2
}
