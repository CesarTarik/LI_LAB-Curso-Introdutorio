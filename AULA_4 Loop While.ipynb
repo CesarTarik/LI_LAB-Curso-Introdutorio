{
 "cells": [
  {
   "cell_type": "markdown",
   "metadata": {},
   "source": [
    "## AULA_4 Laços While"
   ]
  },
  {
   "cell_type": "markdown",
   "metadata": {},
   "source": [
    "## Laços de Repetição\n",
    "\n",
    "Programas de computador em qualquer linguagem imperativa são sequênciais por default. Ou seja, Executa linha 1, então linha 2, linha 3 ... etc. Contudo algumas vezes queremos alterar esse fluxo. Por exemplo, podemos desejar que um pedaço de código seja repetido várias vezes.\n",
    "\n",
    "Para isso linguagens de programação permitem diversos tipos de loops ou laços de repetição na avaliação de condições. Na aula de hoje iremos ver o loop while. Enquanto a condição é verdadeira, se repete o código. Um exemplo em pseudo-código:\n",
    "\n",
    "```python\n",
    "enquanto (<condição>) faça\n",
    "\n",
    "    [instruções enquanto a condição é verdadeira]\n",
    "\n",
    "fim_enquanto\n",
    "```\n",
    "\n",
    "Também pode ser vista como \n",
    "\n",
    "- Condição --> True --> Executa Bloco --> Condição -->True....\n",
    "- Condição --> False --> Ignora Bloco\n",
    "\n",
    "Utilizar loops permite re-usabilidade do código, impedindo de escrever a mesma coisa constantemente e permite usar estruturas de dados, algumas bem complexas.\n",
    "\n",
    "Existem três tipos principais de loops\n",
    "\n",
    "| Loop | Descrição |\n",
    "|:---|:---|\n",
    "| while | Não sabemos o nº de iterações, executado enquanto condição é satisfeita |\n",
    "| do-while | executa uma vez, executado novamente enquanto condição é satisfeita |\n",
    "| for | executa até que a condição seja verdadeira |"
   ]
  },
  {
   "cell_type": "markdown",
   "metadata": {},
   "source": [
    "## Expressão While\n",
    "\n",
    "O loop while permite um bloco de código ser executado repetidamente enquanto uma determinada condição for verdadeira. Ou seja, a avaliação da condição é feita antes da execução do comando. Ele é usualmente acompanhado de uma variável que se altera durante o loop. A falta dessa variável pode gerar loops infinitos. Ideal para situações onde não se conhece o número de iterações a serem feitas. "
   ]
  },
  {
   "cell_type": "markdown",
   "metadata": {},
   "source": [
    "## Acumulador e Contador\n",
    "\n",
    "Acumulador é uma variável usada em ambos os lados de uma atribuição iniciada por um valor específico. É usada para armazenar valores acumulados cada vez que o código é executado.\n",
    "\n",
    "Exemplo:\n",
    "- a = 1;\n",
    "- a = a + 2;\n",
    "- a = 3\n",
    "\n",
    "Já o contador é uma variável que é usada para contagem. É um acumulador que aumenta ou diminui em uma unidade\n",
    "\n",
    "- i = i+1; ou i++;\n",
    "- i = i-1 ou i--"
   ]
  },
  {
   "cell_type": "code",
   "execution_count": 1,
   "metadata": {},
   "outputs": [
    {
     "name": "stdout",
     "output_type": "stream",
     "text": [
      "1\n",
      "2\n",
      "3\n",
      "4\n",
      "5\n",
      "6\n",
      "7\n",
      "8\n",
      "9\n",
      "10\n"
     ]
    }
   ],
   "source": [
    "# O loop irá iterar até que a condição de imprimir de 1 a 10 se torne falsa\n",
    "i = 1\n",
    "while(i <= 10):\n",
    "    print(i)\n",
    "    i = i + 1"
   ]
  },
  {
   "cell_type": "code",
   "execution_count": 3,
   "metadata": {},
   "outputs": [
    {
     "name": "stdout",
     "output_type": "stream",
     "text": [
      "2\n",
      "3\n",
      "4\n",
      "5\n",
      "6\n",
      "7\n",
      "8\n",
      "9\n",
      "10\n",
      "11\n"
     ]
    }
   ],
   "source": [
    "# Caso se altere a ordem \n",
    "i = 1\n",
    "while(i <= 10):\n",
    "    i = i + 1\n",
    "    print(i)"
   ]
  },
  {
   "cell_type": "code",
   "execution_count": 5,
   "metadata": {},
   "outputs": [
    {
     "name": "stdout",
     "output_type": "stream",
     "text": [
      "1\n",
      "2\n",
      "3\n",
      "4\n",
      "5\n"
     ]
    }
   ],
   "source": [
    "# Oura forma de mostrar o contador\n",
    "i = 1\n",
    "while i < 6:\n",
    "  print(i)\n",
    "  i += 1 # igual a  i = i + 1"
   ]
  },
  {
   "cell_type": "code",
   "execution_count": 7,
   "metadata": {},
   "outputs": [],
   "source": [
    "# Laço que jamais será executado pois a condição é sempre falsa\n",
    "numeroimposs = 12\n",
    "while numeroimposs < 10 :\n",
    "    print(f\"O número {numeroimposs} é impossível!\")"
   ]
  },
  {
   "cell_type": "code",
   "execution_count": 1,
   "metadata": {},
   "outputs": [],
   "source": [
    "# Faça um programa while que imprima 4 números"
   ]
  },
  {
   "cell_type": "markdown",
   "metadata": {},
   "source": [
    "## Exemplos de Loops infinitos, JAMAIS RUN THIS!!!\n",
    "\n",
    "```python\n",
    "numeroinfinito = 0\n",
    "while numeroinfinito < 10:\n",
    "    print(f\"numeroinfinito is {numeroinfinito}!\")\n",
    "\n",
    "while True:\n",
    "    print(\"Eu sou Sempre verdadeiro!!!\")\n",
    "```"
   ]
  },
  {
   "cell_type": "code",
   "execution_count": 3,
   "metadata": {},
   "outputs": [
    {
     "name": "stdout",
     "output_type": "stream",
     "text": [
      "50\n",
      "51\n",
      "52\n",
      "53\n",
      "54\n",
      "55\n",
      "56\n",
      "57\n",
      "58\n",
      "59\n",
      "60\n",
      "61\n",
      "62\n",
      "63\n",
      "64\n",
      "65\n",
      "66\n",
      "67\n",
      "68\n",
      "69\n",
      "70\n",
      "71\n",
      "72\n",
      "73\n",
      "74\n",
      "75\n",
      "76\n",
      "77\n",
      "78\n",
      "79\n",
      "80\n",
      "81\n",
      "82\n",
      "83\n",
      "84\n",
      "85\n",
      "86\n",
      "87\n",
      "88\n",
      "89\n",
      "90\n",
      "91\n",
      "92\n",
      "93\n",
      "94\n",
      "95\n",
      "96\n",
      "97\n",
      "98\n",
      "99\n",
      "100\n"
     ]
    }
   ],
   "source": [
    "## Exiba um programa que mostre numeros de 50-100\n",
    "x = 50\n",
    "while x <= 100:\n",
    "    print(x)\n",
    "    x = x + 1"
   ]
  },
  {
   "cell_type": "code",
   "execution_count": 8,
   "metadata": {},
   "outputs": [
    {
     "name": "stdout",
     "output_type": "stream",
     "text": [
      "10\n",
      "9\n",
      "8\n",
      "7\n",
      "6\n",
      "5\n",
      "4\n",
      "3\n",
      "2\n",
      "1\n",
      "0\n",
      "Lançamento!\n"
     ]
    }
   ],
   "source": [
    "# É possível usar contador regressivo\n",
    "# Programa que escreve a contagem regressiva de um lançamento\n",
    "x = 10\n",
    "while x >= 0:\n",
    "    print(x)\n",
    "    x = x - 1\n",
    "print(\"Lançamento!\")"
   ]
  },
  {
   "cell_type": "code",
   "execution_count": null,
   "metadata": {},
   "outputs": [],
   "source": [
    "# Faça o programa acima com 4 números"
   ]
  },
  {
   "cell_type": "code",
   "execution_count": 9,
   "metadata": {},
   "outputs": [
    {
     "name": "stdout",
     "output_type": "stream",
     "text": [
      "1\n",
      "2\n",
      "3\n",
      "4\n",
      "5\n",
      "O while terminou\n"
     ]
    }
   ],
   "source": [
    "# Podemos usar while com else também.\n",
    "i=1   \n",
    "while(i <= 5):\n",
    "    print(i)\n",
    "    i = i + 1\n",
    "else:\n",
    "    print(\"O while terminou\")"
   ]
  },
  {
   "cell_type": "code",
   "execution_count": 6,
   "metadata": {},
   "outputs": [
    {
     "name": "stdout",
     "output_type": "stream",
     "text": [
      "1\n",
      "2\n"
     ]
    }
   ],
   "source": [
    "# Break é uma função built-in do python\n",
    "# Ele interrompe o bloco do código mesmo se suas condições são verdadeiras.\n",
    "# Verifique com o if do break com diferentes valores como 4, 5, 7\n",
    "i = 1    \n",
    "while(i <= 5):\n",
    "    print(i)\n",
    "    i= i+ 1\n",
    "    if(i==3):\n",
    "        break\n",
    "else:\n",
    "    print(\"O while terminou\")"
   ]
  },
  {
   "cell_type": "code",
   "execution_count": null,
   "metadata": {},
   "outputs": [],
   "source": [
    "# Verifique com o if do break com diferentes valores como 4, 5, 7\n"
   ]
  },
  {
   "cell_type": "code",
   "execution_count": 10,
   "metadata": {},
   "outputs": [
    {
     "name": "stdout",
     "output_type": "stream",
     "text": [
      "1\n",
      "2\n",
      "4\n",
      "5\n",
      "6\n"
     ]
    }
   ],
   "source": [
    "# A declaração Continue é um break temporario, que continua no valor seguinte\n",
    "i = 0\n",
    "while i < 6:\n",
    "  i += 1\n",
    "  if i == 3:\n",
    "    continue\n",
    "  print(i)"
   ]
  },
  {
   "cell_type": "code",
   "execution_count": 7,
   "metadata": {},
   "outputs": [
    {
     "name": "stdout",
     "output_type": "stream",
     "text": [
      "2\n",
      "4\n",
      "6\n",
      "8\n",
      "10\n",
      "12\n",
      "14\n",
      "16\n",
      "18\n",
      "20\n"
     ]
    }
   ],
   "source": [
    "# Mostrando os 10 primeiros números pares usando while\n",
    "num = 2\n",
    "while(num<=20):\n",
    "   print(num)\n",
    "   num = num + 2"
   ]
  },
  {
   "cell_type": "code",
   "execution_count": 13,
   "metadata": {},
   "outputs": [],
   "source": [
    "## PERGUNTA, E SE EU QUISER FAZER COM IMPARES"
   ]
  },
  {
   "cell_type": "code",
   "execution_count": 14,
   "metadata": {},
   "outputs": [
    {
     "name": "stdout",
     "output_type": "stream",
     "text": [
      "10 \\ 20 \\ 30 \\ 40 \\ 50 \\ 60 \\ 70 \\ 80 \\ 90 \\ 100 \\ 110 \\ 120 \\ 130 \\ 140 \\ 150 \\ 160 \\ 170 \\ 180 \\ 190 \\ 200 \\ 210 \\ 220 \\ 230 \\ 240 \\ 250 \\ 260 \\ 270 \\ 280 \\ 290 \\ 300 \\ "
     ]
    }
   ],
   "source": [
    "# Escrevendo a declaração 10, 20, 30 ... ... 300 separada por \\\n",
    "# Podemos alterar o separador dos valores para , ou .\n",
    "num = 10\n",
    "while (num <= 300) :\n",
    "    print(num, end = \" \\ \")\n",
    "    num = num +10"
   ]
  },
  {
   "cell_type": "code",
   "execution_count": 17,
   "metadata": {},
   "outputs": [
    {
     "name": "stdout",
     "output_type": "stream",
     "text": [
      "z é 0\n",
      "z é 1\n",
      "z é 2\n"
     ]
    }
   ],
   "source": [
    "## Podemos usar elif juto ao while\n",
    "\n",
    "z = 0\n",
    "\n",
    "while z < 3:\n",
    "    if z == 0:\n",
    "        print(\"z é\",z)\n",
    "        z += 1\n",
    "    elif z == 1:\n",
    "        print(\"z é\",z)\n",
    "        z += 1\n",
    "    else:\n",
    "        print(\"z é\",z)\n",
    "        z += 1"
   ]
  },
  {
   "cell_type": "code",
   "execution_count": 15,
   "metadata": {},
   "outputs": [
    {
     "name": "stdout",
     "output_type": "stream",
     "text": [
      "[0, 1, 2, 3]\n"
     ]
    }
   ],
   "source": [
    "# Podemos usar while para adicionar valores a listas.\n",
    "\n",
    "myList = []\n",
    "i = 0\n",
    "\n",
    "while len(myList) < 4 :\n",
    "    myList.append(i)\n",
    "    i += 1\n",
    "  \n",
    "print(myList)"
   ]
  },
  {
   "cell_type": "code",
   "execution_count": 3,
   "metadata": {},
   "outputs": [
    {
     "name": "stdout",
     "output_type": "stream",
     "text": [
      "115\n"
     ]
    }
   ],
   "source": [
    "\n",
    "# Somando uma lista onde i representa as posições da lista\n",
    "myList = [23,45,12,10,25]\n",
    "i = 0 \n",
    "sum = 0\n",
    "\n",
    "while i < len(myList):\n",
    "    sum = sum + myList[i]\n",
    "    i += 1\n",
    "\n",
    "print(sum)"
   ]
  },
  {
   "cell_type": "code",
   "execution_count": 5,
   "metadata": {},
   "outputs": [
    {
     "name": "stdout",
     "output_type": "stream",
     "text": [
      "Letra impressa é I\n",
      "Letra impressa é s\n",
      "Letra impressa é s\n",
      "Letra impressa é  \n",
      "Letra impressa é é\n",
      "Letra impressa é  \n",
      "Letra impressa é F\n",
      "Letra impressa é a\n",
      "Letra impressa é n\n",
      "Letra impressa é t\n",
      "Letra impressa é a\n",
      "Letra impressa é s\n",
      "Letra impressa é t\n",
      "Letra impressa é i\n",
      "Letra impressa é c\n"
     ]
    }
   ],
   "source": [
    "## Imprimir algumas letras de uma palavra\n",
    "# No caso não imprimir e e o\n",
    "\n",
    "i = 0 \n",
    "palavra = \"Isso é Fantastico\"\n",
    "\n",
    "while i < len(palavra):\n",
    "    if palavra[i] == \"e\" or palavra[i] ==\"o\":\n",
    "        i += 1\n",
    "        continue\n",
    "\n",
    "    print(f\"Letra impressa é\",palavra[i])\n",
    "    i += 1"
   ]
  },
  {
   "cell_type": "code",
   "execution_count": 13,
   "metadata": {},
   "outputs": [
    {
     "name": "stdout",
     "output_type": "stream",
     "text": [
      "Valor em binário é:  10\n"
     ]
    }
   ],
   "source": [
    "# Calculo de binário - Deixo para pesquisa\n",
    "\n",
    "num = int(input(\"Entre um Número: \"))\n",
    "b = 0\n",
    "p = 1\n",
    "n = num\n",
    "\n",
    "while n>0:\n",
    "    rem = n%2\n",
    "    b += rem * p\n",
    "    p = p*10\n",
    "    n = n//2\n",
    "\n",
    "print(\"Valor em binário é: \",b)"
   ]
  },
  {
   "cell_type": "code",
   "execution_count": 14,
   "metadata": {},
   "outputs": [
    {
     "name": "stdout",
     "output_type": "stream",
     "text": [
      "A média dos números é: 2.6\n"
     ]
    }
   ],
   "source": [
    "# Calculos matemáticos - Média de 5 números\n",
    "p = 5\n",
    "soma = 0\n",
    "contador = 0\n",
    "\n",
    "while p > 0:\n",
    "    contador += 1\n",
    "    f = int(input(\"Insira o Número \"))\n",
    "    soma += f\n",
    "    p -= 1\n",
    "  \n",
    "media = soma/contador\n",
    "print(\"A média dos números é:\",media)"
   ]
  },
  {
   "cell_type": "code",
   "execution_count": 19,
   "metadata": {},
   "outputs": [
    {
     "name": "stdout",
     "output_type": "stream",
     "text": [
      "2\n",
      "4\n",
      "6\n",
      "8\n"
     ]
    }
   ],
   "source": [
    "# Programa que lê dois números\n",
    "num1 = int(input(\"Primeiro Número  : \"))\n",
    "num2 = int(input(\"Segundo Número  : \"))\n",
    "if num1 > num2:\n",
    "   while(num1>num2):\n",
    "     if num2 % 2 == 0:\n",
    "       print(num2)\n",
    "     num2 = num2 + 1\n",
    "else:\n",
    "   while(num1<num2):\n",
    "     if num1 % 2 == 0:\n",
    "       print(num1)\n",
    "     num1 = num1 + 1"
   ]
  },
  {
   "cell_type": "code",
   "execution_count": 13,
   "metadata": {},
   "outputs": [
    {
     "name": "stdout",
     "output_type": "stream",
     "text": [
      "14 não é um número primo\n"
     ]
    }
   ],
   "source": [
    "num1 = int(input(\"Enter any number : \"))\n",
    "k=0\n",
    "if num1 == 0 or num1 == 1:\n",
    "    print(\"não é um número primo \")\n",
    "else:\n",
    "   i = 2\n",
    "   while(i<num1):\n",
    "     if num1 % i == 0:\n",
    "       k = k+1\n",
    "     i = i+1\n",
    "if k == 0 :\n",
    "        print( num1,\"É um número primo\")\n",
    "else:\n",
    "        print(num1, \"não é um número primo\")"
   ]
  },
  {
   "cell_type": "code",
   "execution_count": null,
   "metadata": {},
   "outputs": [
    {
     "name": "stdout",
     "output_type": "stream",
     "text": [
      "16 Não é um número primo\n"
     ]
    }
   ],
   "source": [
    "primo = int(input(\"Digite um número : \"))\n",
    "k = 0\n",
    "if primo == 0 or primo == 1:\n",
    "    print('não é um número primo')\n",
    "else:\n",
    "    i = 2\n",
    "    while( i < primo):\n",
    "        if primo % i == 0:\n",
    "            k = k + 1\n",
    "        i= i + 1\n",
    "if k == 0:\n",
    "    print(primo, \"É um número primo\")\n",
    "else:\n",
    "    print(primo, \"Não é um número primo\")\n"
   ]
  },
  {
   "cell_type": "code",
   "execution_count": 21,
   "metadata": {},
   "outputs": [
    {
     "name": "stdout",
     "output_type": "stream",
     "text": [
      "\n",
      "O resultado é:  4\n"
     ]
    }
   ],
   "source": [
    "# Utilização de if e while: Program que receba do usuário dois números inteiros e\n",
    "# e calcula valor de um elevado a outro\n",
    "num = int(input(\"Informe um número inteiro: \"))\n",
    "exp = int(input(\"Informe um expoente inteiro e positivo: \"))\n",
    "\n",
    "if (num != 0 and exp == 0):\n",
    "    print(\"\\nO resultado é: 1\")\n",
    "    \n",
    "elif (num == 0 and exp == 0):\n",
    "    print('\\nERRO!')\n",
    "\n",
    "else:\n",
    "    aux = num\n",
    "    while (exp != 1):\n",
    "        aux *= num\n",
    "        exp -= 1\n",
    "    print(\"\\nO resultado é: \", aux)"
   ]
  },
  {
   "cell_type": "code",
   "execution_count": 29,
   "metadata": {},
   "outputs": [
    {
     "name": "stdout",
     "output_type": "stream",
     "text": [
      "3 x 1 = 3\n",
      "3 x 2 = 6\n",
      "3 x 3 = 9\n",
      "3 x 4 = 12\n",
      "3 x 5 = 15\n",
      "3 x 6 = 18\n",
      "3 x 7 = 21\n",
      "3 x 8 = 24\n"
     ]
    }
   ],
   "source": [
    "## tabuada de um número até outro\n",
    "\n",
    "p = int(input(\"Primeiro número: \"))\n",
    "s = int(input(\"Segundo número: \"))\n",
    "x = 0\n",
    "r = 0\n",
    "while x <= s:\n",
    "    r = r + p\n",
    "    x = x + 1\n",
    "    print(f\"{p} x {x} = {r}\")"
   ]
  },
  {
   "cell_type": "markdown",
   "metadata": {},
   "source": [
    "## Pequeno adendo do-while\n",
    "\n",
    "Falar rapidamente do do-while. No laço do-while O código será executado uma vez independente de qualquer coisa. Ele analisa a condição para uma nova iteração somente após de executar o código. Ele não existe built-in no Python. \n",
    "\n",
    "# A estrutura dele é algo assim:\n",
    "\n",
    "```python\n",
    "do {\n",
    "   loop\n",
    "}\n",
    "while(condição)\n",
    "```"
   ]
  },
  {
   "cell_type": "code",
   "execution_count": null,
   "metadata": {},
   "outputs": [],
   "source": [
    "# Codigo do-while no C\n",
    "\n",
    "#include <stdio.h>\n",
    " \n",
    "##int main(void)\n",
    "## {\n",
    "##   int i = 10;\n",
    "##   do {\n",
    "##      printf(\"the value of i: %i\\n\", i);\n",
    "##      i++;\n",
    "##      }\n",
    "##  while( i < 20 );\n",
    "## }\n"
   ]
  },
  {
   "cell_type": "markdown",
   "metadata": {},
   "source": [
    "# Exercícios\n",
    "\n",
    "- 1- Escreva um programa que pergunte o depósito inicial e a taxa de juros de uma poupança. Exiba os valores mês a mês para os 24 primeiros meses. Escreva o total ganho com juros no período.  (2 Pontos)\n",
    "\n",
    "- 2- Escreva um programa que leia números inteiros do teclado. O programa deve ler os números até que o usuário digite 0 (zero). No final da execução, exiba a quantidade de números digitados, assim como a soma e a média aritmética. (2 Pontos)\n",
    "\n",
    "- 3- Calcule os 20 primeiros termos de uma sequência de Fibonacci usando while. (2 Pontos)\n",
    "\n",
    "- 4- Escreva um programa que leia um nome de usuário e sua senha. que não aceite que o login e senha sejam iguais e que peça novamente a senha até seja correta. (2 Pontos)\n",
    "\n",
    "- 5- Ache o resultado de um fatorial de um número digitado pelo usuário. (2 Pontos)"
   ]
  }
 ],
 "metadata": {
  "kernelspec": {
   "display_name": "Python 3.9.7 ('base')",
   "language": "python",
   "name": "python3"
  },
  "language_info": {
   "codemirror_mode": {
    "name": "ipython",
    "version": 3
   },
   "file_extension": ".py",
   "mimetype": "text/x-python",
   "name": "python",
   "nbconvert_exporter": "python",
   "pygments_lexer": "ipython3",
   "version": "3.9.7"
  },
  "orig_nbformat": 4,
  "vscode": {
   "interpreter": {
    "hash": "c8244fbad4f74a14bb437976f80d62c90eb41cacdaf4831dcafe60ff9183122e"
   }
  }
 },
 "nbformat": 4,
 "nbformat_minor": 2
}
